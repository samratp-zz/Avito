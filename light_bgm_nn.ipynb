{
 "cells": [
  {
   "cell_type": "code",
   "execution_count": 1,
   "metadata": {
    "collapsed": true
   },
   "outputs": [],
   "source": [
    "import time \n",
    "import numpy as np\n",
    "import pandas as pd \n",
    "import os \n",
    "import gc "
   ]
  },
  {
   "cell_type": "code",
   "execution_count": 2,
   "metadata": {
    "collapsed": true
   },
   "outputs": [],
   "source": [
    "from sklearn import metrics \n",
    "from sklearn.metrics import mean_squared_error \n",
    "from sklearn import feature_selection \n",
    "from sklearn.model_selection import train_test_split \n",
    "from sklearn import preprocessing "
   ]
  },
  {
   "cell_type": "code",
   "execution_count": 3,
   "metadata": {},
   "outputs": [
    {
     "name": "stderr",
     "output_type": "stream",
     "text": [
      "/Users/oharasoh/.pyenv/versions/3.5.3/lib/python3.5/site-packages/sklearn/cross_validation.py:41: DeprecationWarning: This module was deprecated in version 0.18 in favor of the model_selection module into which all the refactored classes and functions are moved. Also note that the interface of the new CV iterators are different from that of this module. This module will be removed in 0.20.\n",
      "  \"This module will be removed in 0.20.\", DeprecationWarning)\n"
     ]
    }
   ],
   "source": [
    "import lightgbm as lgb \n",
    "from sklearn.linear_model import Ridge \n",
    "from sklearn.cross_validation import KFold \n",
    "# Tf-Idf 単語ベクトル系\n",
    "from sklearn.feature_extraction.text import CountVectorizer, TfidfVectorizer \n",
    "from sklearn.pipeline import FeatureUnion \n",
    "from scipy.sparse import hstack, csr_matrix \n",
    "from nltk.corpus import stopwords \n",
    "# 可視化\n",
    "import seaborn as sns \n",
    "import matplotlib.pyplot as plt \n",
    "import re \n",
    "import string "
   ]
  },
  {
   "cell_type": "code",
   "execution_count": 4,
   "metadata": {
    "collapsed": true
   },
   "outputs": [],
   "source": [
    "NFOLDS = 5 \n",
    "SEED = 42 \n",
    "VALID = True \n",
    "# Sklearnのオブジェクトを入れるためのクラス？\n",
    "# clfは決定木関連\n",
    "class SklearnWrapper(object):\n",
    "    def __init__(self, clf, seed=0, params=None, seed_bool=True):\n",
    "        if(seed_bool == True):\n",
    "            params['random_state'] = seed \n",
    "        self.clf = clf(**params) \n",
    "    def train(self, x_train, y_train):\n",
    "        self.clf.fit(x_train, y_train) \n",
    "        \n",
    "    def predict(self, x):\n",
    "        return self.clf.predict(x) \n",
    "# oofって何だろう。\n",
    "def get_oof(clf, x_train, y, x_test):\n",
    "    oof_train = np.zeros((ntrain,)) \n",
    "    oof_test = np.zeros((ntest,)) \n",
    "    oof_test_skf = np.empty((NFOLDS, ntest)) \n",
    "    \n",
    "    for i, (train_index, test_index) in enumerate(kf):\n",
    "        print(\"Fold {}\".format(i)) \n",
    "        x_tr = x_train[train_index] \n",
    "        y_tr = y[train_index] \n",
    "        x_te = x_train[test_index] \n",
    "        \n",
    "        clf.train(x_tr, y_tr) \n",
    "        \n",
    "        oof_train[test_index] = clf.predict(x_te) \n",
    "        oof_test_skf[i, :] = clf.predict(x_test) \n",
    "    oof_test[:] = oof_test_skf.mean(axis=0) \n",
    "    return oof_train.reshape(-1, 1), oof_test.reshape(-1, 1) \n",
    "\n",
    "\n",
    "def cleanName(text):\n",
    "    try: \n",
    "        textProc = text.lower() \n",
    "        # textPro = \" \".jpin(map(str.strip, re.split('(\\d+)', textProc)))\n",
    "        # regex = re.compile(u'[^[:alpha:]]')\n",
    "        # textProc = regex.sub(\" \", textProc) \n",
    "        textProc = re.sub('[!@#$_“”¨«»®´·º½¾¿¡§£₤‘’]', '', textProc)\n",
    "        textProc = \" \".join(textProc.split()) \n",
    "        return textProc \n",
    "    except:\n",
    "        return \"name error\" \n",
    "    \n",
    "def rmse(y, y0):\n",
    "    assert len(y) == len(y0) \n",
    "    return np.sqrt(np.mean(np.power((y - y0), 2)))"
   ]
  },
  {
   "cell_type": "code",
   "execution_count": 5,
   "metadata": {
    "collapsed": true
   },
   "outputs": [],
   "source": [
    "text = \"I am you you and and II I!! I don't want you to sleep.\"\n",
    "text = re.split('(\\d+)', text)"
   ]
  },
  {
   "cell_type": "code",
   "execution_count": 6,
   "metadata": {},
   "outputs": [
    {
     "data": {
      "text/plain": [
       "[\"I am you you and and II I!! I don't want you to sleep.\"]"
      ]
     },
     "execution_count": 6,
     "metadata": {},
     "output_type": "execute_result"
    }
   ],
   "source": [
    "text"
   ]
  },
  {
   "cell_type": "code",
   "execution_count": 7,
   "metadata": {
    "collapsed": true
   },
   "outputs": [],
   "source": [
    "text = map(str.strip, text)"
   ]
  },
  {
   "cell_type": "code",
   "execution_count": 8,
   "metadata": {},
   "outputs": [
    {
     "data": {
      "text/plain": [
       "<map at 0x113630940>"
      ]
     },
     "execution_count": 8,
     "metadata": {},
     "output_type": "execute_result"
    }
   ],
   "source": [
    "text"
   ]
  },
  {
   "cell_type": "code",
   "execution_count": 9,
   "metadata": {},
   "outputs": [
    {
     "data": {
      "text/plain": [
       "\"I am you you and and II I!! I don't want you to sleep.\""
      ]
     },
     "execution_count": 9,
     "metadata": {},
     "output_type": "execute_result"
    }
   ],
   "source": [
    "\" \".join(text)"
   ]
  },
  {
   "cell_type": "code",
   "execution_count": 10,
   "metadata": {
    "collapsed": true
   },
   "outputs": [],
   "source": [
    "training = pd.read_csv(\"train.csv\", index_col=\"item_id\", \n",
    "                      parse_dates = [\"activation_date\"], nrows=10000) \n",
    "traindex = training.index \n",
    "# testing = pd.read_csv(\"test.csv\", index_col=\"item_id\",\n",
    "#                     parse_dates = [\"activation_date\"], nrows=100)\n",
    "testing = pd.read_csv(\"train.csv\", index_col = \"item_id\", \n",
    "                      parse_dates= [\"activation_date\"], nrows=20000)\n",
    "testing = testing[10000:]\n",
    "testdex = testing.index "
   ]
  },
  {
   "cell_type": "code",
   "execution_count": 11,
   "metadata": {},
   "outputs": [
    {
     "data": {
      "text/plain": [
       "(10000, 17)"
      ]
     },
     "execution_count": 11,
     "metadata": {},
     "output_type": "execute_result"
    }
   ],
   "source": [
    "testing.shape"
   ]
  },
  {
   "cell_type": "code",
   "execution_count": 12,
   "metadata": {},
   "outputs": [
    {
     "name": "stdout",
     "output_type": "stream",
     "text": [
      "Train shape: 10000 Rows, 16 Columns\n",
      "Test shape: 10000 Rows, 17 Columns\n"
     ]
    }
   ],
   "source": [
    "ntrain = training.shape[0] \n",
    "ntest = testing.shape[0] \n",
    "\n",
    "kf = KFold(ntrain, n_folds=NFOLDS, shuffle=True, random_state=SEED) \n",
    "\n",
    "y = training.deal_probability.copy() \n",
    "training.drop(\"deal_probability\", axis=1, inplace=True)  \n",
    "print(\"Train shape: {} Rows, {} Columns\".format(*training.shape))\n",
    "print(\"Test shape: {} Rows, {} Columns\".format(*testing.shape))"
   ]
  },
  {
   "cell_type": "code",
   "execution_count": 13,
   "metadata": {
    "collapsed": true
   },
   "outputs": [],
   "source": [
    "df = pd.concat([training, testing], axis=0) \n",
    "validation = testing[\"deal_probability\"] \n",
    "# df = pd.concat([training, testing], axis=0)\n",
    "del training, testing \n"
   ]
  },
  {
   "cell_type": "code",
   "execution_count": 14,
   "metadata": {},
   "outputs": [
    {
     "data": {
      "text/plain": [
       "item_id\n",
       "caca718b7a20    0.24829\n",
       "c73daf8d5d27    0.00000\n",
       "6c3780015c1d    0.00000\n",
       "efff384be340    0.00000\n",
       "3d17e5ae66d3    0.00000\n",
       "Name: deal_probability, dtype: float64"
      ]
     },
     "execution_count": 14,
     "metadata": {},
     "output_type": "execute_result"
    }
   ],
   "source": [
    "validation.head()"
   ]
  },
  {
   "cell_type": "code",
   "execution_count": 15,
   "metadata": {},
   "outputs": [
    {
     "name": "stdout",
     "output_type": "stream",
     "text": [
      "All Data Shape: 20000 Rows, 17 Columns\n"
     ]
    }
   ],
   "source": [
    "print(\"All Data Shape: {} Rows, {} Columns\".format(*df.shape))"
   ]
  },
  {
   "cell_type": "code",
   "execution_count": 16,
   "metadata": {},
   "outputs": [
    {
     "data": {
      "text/html": [
       "<div>\n",
       "<style>\n",
       "    .dataframe thead tr:only-child th {\n",
       "        text-align: right;\n",
       "    }\n",
       "\n",
       "    .dataframe thead th {\n",
       "        text-align: left;\n",
       "    }\n",
       "\n",
       "    .dataframe tbody tr th {\n",
       "        vertical-align: top;\n",
       "    }\n",
       "</style>\n",
       "<table border=\"1\" class=\"dataframe\">\n",
       "  <thead>\n",
       "    <tr style=\"text-align: right;\">\n",
       "      <th></th>\n",
       "      <th>activation_date</th>\n",
       "      <th>category_name</th>\n",
       "      <th>city</th>\n",
       "      <th>deal_probability</th>\n",
       "      <th>description</th>\n",
       "      <th>image</th>\n",
       "      <th>image_top_1</th>\n",
       "      <th>item_seq_number</th>\n",
       "      <th>param_1</th>\n",
       "      <th>param_2</th>\n",
       "      <th>param_3</th>\n",
       "      <th>parent_category_name</th>\n",
       "      <th>price</th>\n",
       "      <th>region</th>\n",
       "      <th>title</th>\n",
       "      <th>user_id</th>\n",
       "      <th>user_type</th>\n",
       "    </tr>\n",
       "    <tr>\n",
       "      <th>item_id</th>\n",
       "      <th></th>\n",
       "      <th></th>\n",
       "      <th></th>\n",
       "      <th></th>\n",
       "      <th></th>\n",
       "      <th></th>\n",
       "      <th></th>\n",
       "      <th></th>\n",
       "      <th></th>\n",
       "      <th></th>\n",
       "      <th></th>\n",
       "      <th></th>\n",
       "      <th></th>\n",
       "      <th></th>\n",
       "      <th></th>\n",
       "      <th></th>\n",
       "      <th></th>\n",
       "    </tr>\n",
       "  </thead>\n",
       "  <tbody>\n",
       "    <tr>\n",
       "      <th>b912c3c6a6ad</th>\n",
       "      <td>2017-03-28</td>\n",
       "      <td>Товары для детей и игрушки</td>\n",
       "      <td>Екатеринбург</td>\n",
       "      <td>NaN</td>\n",
       "      <td>Кокон для сна малыша,пользовались меньше месяц...</td>\n",
       "      <td>d10c7e016e03247a3bf2d13348fe959fe6f436c1caf64c...</td>\n",
       "      <td>1008.0</td>\n",
       "      <td>2</td>\n",
       "      <td>Постельные принадлежности</td>\n",
       "      <td>NaN</td>\n",
       "      <td>NaN</td>\n",
       "      <td>Личные вещи</td>\n",
       "      <td>400.0</td>\n",
       "      <td>Свердловская область</td>\n",
       "      <td>Кокоби(кокон для сна)</td>\n",
       "      <td>e00f8ff2eaf9</td>\n",
       "      <td>Private</td>\n",
       "    </tr>\n",
       "    <tr>\n",
       "      <th>2dac0150717d</th>\n",
       "      <td>2017-03-26</td>\n",
       "      <td>Мебель и интерьер</td>\n",
       "      <td>Самара</td>\n",
       "      <td>NaN</td>\n",
       "      <td>Стойка для одежды, под вешалки. С бутика.</td>\n",
       "      <td>79c9392cc51a9c81c6eb91eceb8e552171db39d7142700...</td>\n",
       "      <td>692.0</td>\n",
       "      <td>19</td>\n",
       "      <td>Другое</td>\n",
       "      <td>NaN</td>\n",
       "      <td>NaN</td>\n",
       "      <td>Для дома и дачи</td>\n",
       "      <td>3000.0</td>\n",
       "      <td>Самарская область</td>\n",
       "      <td>Стойка для Одежды</td>\n",
       "      <td>39aeb48f0017</td>\n",
       "      <td>Private</td>\n",
       "    </tr>\n",
       "    <tr>\n",
       "      <th>ba83aefab5dc</th>\n",
       "      <td>2017-03-20</td>\n",
       "      <td>Аудио и видео</td>\n",
       "      <td>Ростов-на-Дону</td>\n",
       "      <td>NaN</td>\n",
       "      <td>В хорошем состоянии, домашний кинотеатр с blu ...</td>\n",
       "      <td>b7f250ee3f39e1fedd77c141f273703f4a9be59db4b48a...</td>\n",
       "      <td>3032.0</td>\n",
       "      <td>9</td>\n",
       "      <td>Видео, DVD и Blu-ray плееры</td>\n",
       "      <td>NaN</td>\n",
       "      <td>NaN</td>\n",
       "      <td>Бытовая электроника</td>\n",
       "      <td>4000.0</td>\n",
       "      <td>Ростовская область</td>\n",
       "      <td>Philips bluray</td>\n",
       "      <td>91e2f88dd6e3</td>\n",
       "      <td>Private</td>\n",
       "    </tr>\n",
       "    <tr>\n",
       "      <th>02996f1dd2ea</th>\n",
       "      <td>2017-03-25</td>\n",
       "      <td>Товары для детей и игрушки</td>\n",
       "      <td>Набережные Челны</td>\n",
       "      <td>NaN</td>\n",
       "      <td>Продам кресло от0-25кг</td>\n",
       "      <td>e6ef97e0725637ea84e3d203e82dadb43ed3cc0a1c8413...</td>\n",
       "      <td>796.0</td>\n",
       "      <td>286</td>\n",
       "      <td>Автомобильные кресла</td>\n",
       "      <td>NaN</td>\n",
       "      <td>NaN</td>\n",
       "      <td>Личные вещи</td>\n",
       "      <td>2200.0</td>\n",
       "      <td>Татарстан</td>\n",
       "      <td>Автокресло</td>\n",
       "      <td>bf5cccea572d</td>\n",
       "      <td>Company</td>\n",
       "    </tr>\n",
       "    <tr>\n",
       "      <th>7c90be56d2ab</th>\n",
       "      <td>2017-03-16</td>\n",
       "      <td>Автомобили</td>\n",
       "      <td>Волгоград</td>\n",
       "      <td>NaN</td>\n",
       "      <td>Все вопросы по телефону.</td>\n",
       "      <td>54a687a3a0fc1d68aed99bdaaf551c5c70b761b16fd0a2...</td>\n",
       "      <td>2264.0</td>\n",
       "      <td>3</td>\n",
       "      <td>С пробегом</td>\n",
       "      <td>ВАЗ (LADA)</td>\n",
       "      <td>2110</td>\n",
       "      <td>Транспорт</td>\n",
       "      <td>40000.0</td>\n",
       "      <td>Волгоградская область</td>\n",
       "      <td>ВАЗ 2110, 2003</td>\n",
       "      <td>ef50846afc0b</td>\n",
       "      <td>Private</td>\n",
       "    </tr>\n",
       "  </tbody>\n",
       "</table>\n",
       "</div>"
      ],
      "text/plain": [
       "             activation_date               category_name              city  \\\n",
       "item_id                                                                      \n",
       "b912c3c6a6ad      2017-03-28  Товары для детей и игрушки      Екатеринбург   \n",
       "2dac0150717d      2017-03-26           Мебель и интерьер            Самара   \n",
       "ba83aefab5dc      2017-03-20               Аудио и видео    Ростов-на-Дону   \n",
       "02996f1dd2ea      2017-03-25  Товары для детей и игрушки  Набережные Челны   \n",
       "7c90be56d2ab      2017-03-16                  Автомобили         Волгоград   \n",
       "\n",
       "              deal_probability  \\\n",
       "item_id                          \n",
       "b912c3c6a6ad               NaN   \n",
       "2dac0150717d               NaN   \n",
       "ba83aefab5dc               NaN   \n",
       "02996f1dd2ea               NaN   \n",
       "7c90be56d2ab               NaN   \n",
       "\n",
       "                                                    description  \\\n",
       "item_id                                                           \n",
       "b912c3c6a6ad  Кокон для сна малыша,пользовались меньше месяц...   \n",
       "2dac0150717d          Стойка для одежды, под вешалки. С бутика.   \n",
       "ba83aefab5dc  В хорошем состоянии, домашний кинотеатр с blu ...   \n",
       "02996f1dd2ea                             Продам кресло от0-25кг   \n",
       "7c90be56d2ab                           Все вопросы по телефону.   \n",
       "\n",
       "                                                          image  image_top_1  \\\n",
       "item_id                                                                        \n",
       "b912c3c6a6ad  d10c7e016e03247a3bf2d13348fe959fe6f436c1caf64c...       1008.0   \n",
       "2dac0150717d  79c9392cc51a9c81c6eb91eceb8e552171db39d7142700...        692.0   \n",
       "ba83aefab5dc  b7f250ee3f39e1fedd77c141f273703f4a9be59db4b48a...       3032.0   \n",
       "02996f1dd2ea  e6ef97e0725637ea84e3d203e82dadb43ed3cc0a1c8413...        796.0   \n",
       "7c90be56d2ab  54a687a3a0fc1d68aed99bdaaf551c5c70b761b16fd0a2...       2264.0   \n",
       "\n",
       "              item_seq_number                      param_1     param_2  \\\n",
       "item_id                                                                  \n",
       "b912c3c6a6ad                2    Постельные принадлежности         NaN   \n",
       "2dac0150717d               19                       Другое         NaN   \n",
       "ba83aefab5dc                9  Видео, DVD и Blu-ray плееры         NaN   \n",
       "02996f1dd2ea              286         Автомобильные кресла         NaN   \n",
       "7c90be56d2ab                3                   С пробегом  ВАЗ (LADA)   \n",
       "\n",
       "             param_3 parent_category_name    price                 region  \\\n",
       "item_id                                                                     \n",
       "b912c3c6a6ad     NaN          Личные вещи    400.0   Свердловская область   \n",
       "2dac0150717d     NaN      Для дома и дачи   3000.0      Самарская область   \n",
       "ba83aefab5dc     NaN  Бытовая электроника   4000.0     Ростовская область   \n",
       "02996f1dd2ea     NaN          Личные вещи   2200.0              Татарстан   \n",
       "7c90be56d2ab    2110            Транспорт  40000.0  Волгоградская область   \n",
       "\n",
       "                              title       user_id user_type  \n",
       "item_id                                                      \n",
       "b912c3c6a6ad  Кокоби(кокон для сна)  e00f8ff2eaf9   Private  \n",
       "2dac0150717d      Стойка для Одежды  39aeb48f0017   Private  \n",
       "ba83aefab5dc         Philips bluray  91e2f88dd6e3   Private  \n",
       "02996f1dd2ea             Автокресло  bf5cccea572d   Company  \n",
       "7c90be56d2ab         ВАЗ 2110, 2003  ef50846afc0b   Private  "
      ]
     },
     "execution_count": 16,
     "metadata": {},
     "output_type": "execute_result"
    }
   ],
   "source": [
    "df.head()"
   ]
  },
  {
   "cell_type": "code",
   "execution_count": 17,
   "metadata": {
    "collapsed": true
   },
   "outputs": [],
   "source": [
    "df[\"price\"] = np.log(df[\"price\"] + 0.001 ) \n",
    "df[\"price\"].fillna(df.price.mean(), inplace=True) # 平均で埋める\n",
    "df[\"image_top_1\"].fillna(-999, inplace=True) \n",
    "\n",
    "df[\"Weekday\"] = df[\"activation_date\"].dt.weekday \n",
    "df[\"Weekd of YEar\"] = df[\"activation_date\"].dt.week \n",
    "df[\"Day of Month\"] = df[\"activation_date\"].dt.day \n",
    "\n",
    "training_index = df.loc[df.activation_date<=pd.to_datetime(\"2017-04-07\")\n",
    "                       ].index \n",
    "validation_index = df.loc[df.activation_date>=pd.to_datetime('2017-04-08')\n",
    "                         ].index\n"
   ]
  },
  {
   "cell_type": "code",
   "execution_count": 18,
   "metadata": {},
   "outputs": [
    {
     "data": {
      "text/plain": [
       "Index(['b912c3c6a6ad', '2dac0150717d', 'ba83aefab5dc', '02996f1dd2ea',\n",
       "       '7c90be56d2ab', '51e0962387f7', 'c4f260a2b48a', '6b71309d6a8a',\n",
       "       'c5b969cb63a2', 'b1570962e68c'],\n",
       "      dtype='object', name='item_id')"
      ]
     },
     "execution_count": 18,
     "metadata": {},
     "output_type": "execute_result"
    }
   ],
   "source": [
    "training_index[:10]"
   ]
  },
  {
   "cell_type": "code",
   "execution_count": 19,
   "metadata": {
    "collapsed": true
   },
   "outputs": [],
   "source": [
    "df.drop([\"activation_date\", \"image\"], axis=1, inplace=True) "
   ]
  },
  {
   "cell_type": "code",
   "execution_count": 20,
   "metadata": {},
   "outputs": [
    {
     "data": {
      "text/html": [
       "<div>\n",
       "<style>\n",
       "    .dataframe thead tr:only-child th {\n",
       "        text-align: right;\n",
       "    }\n",
       "\n",
       "    .dataframe thead th {\n",
       "        text-align: left;\n",
       "    }\n",
       "\n",
       "    .dataframe tbody tr th {\n",
       "        vertical-align: top;\n",
       "    }\n",
       "</style>\n",
       "<table border=\"1\" class=\"dataframe\">\n",
       "  <thead>\n",
       "    <tr style=\"text-align: right;\">\n",
       "      <th></th>\n",
       "      <th>category_name</th>\n",
       "      <th>city</th>\n",
       "      <th>deal_probability</th>\n",
       "      <th>description</th>\n",
       "      <th>image_top_1</th>\n",
       "      <th>item_seq_number</th>\n",
       "      <th>param_1</th>\n",
       "      <th>param_2</th>\n",
       "      <th>param_3</th>\n",
       "      <th>parent_category_name</th>\n",
       "      <th>price</th>\n",
       "      <th>region</th>\n",
       "      <th>title</th>\n",
       "      <th>user_id</th>\n",
       "      <th>user_type</th>\n",
       "      <th>Weekday</th>\n",
       "      <th>Weekd of YEar</th>\n",
       "      <th>Day of Month</th>\n",
       "    </tr>\n",
       "    <tr>\n",
       "      <th>item_id</th>\n",
       "      <th></th>\n",
       "      <th></th>\n",
       "      <th></th>\n",
       "      <th></th>\n",
       "      <th></th>\n",
       "      <th></th>\n",
       "      <th></th>\n",
       "      <th></th>\n",
       "      <th></th>\n",
       "      <th></th>\n",
       "      <th></th>\n",
       "      <th></th>\n",
       "      <th></th>\n",
       "      <th></th>\n",
       "      <th></th>\n",
       "      <th></th>\n",
       "      <th></th>\n",
       "      <th></th>\n",
       "    </tr>\n",
       "  </thead>\n",
       "  <tbody>\n",
       "    <tr>\n",
       "      <th>b912c3c6a6ad</th>\n",
       "      <td>Товары для детей и игрушки</td>\n",
       "      <td>Екатеринбург</td>\n",
       "      <td>NaN</td>\n",
       "      <td>Кокон для сна малыша,пользовались меньше месяц...</td>\n",
       "      <td>1008.0</td>\n",
       "      <td>2</td>\n",
       "      <td>Постельные принадлежности</td>\n",
       "      <td>NaN</td>\n",
       "      <td>NaN</td>\n",
       "      <td>Личные вещи</td>\n",
       "      <td>5.991467</td>\n",
       "      <td>Свердловская область</td>\n",
       "      <td>Кокоби(кокон для сна)</td>\n",
       "      <td>e00f8ff2eaf9</td>\n",
       "      <td>Private</td>\n",
       "      <td>1</td>\n",
       "      <td>13</td>\n",
       "      <td>28</td>\n",
       "    </tr>\n",
       "    <tr>\n",
       "      <th>2dac0150717d</th>\n",
       "      <td>Мебель и интерьер</td>\n",
       "      <td>Самара</td>\n",
       "      <td>NaN</td>\n",
       "      <td>Стойка для одежды, под вешалки. С бутика.</td>\n",
       "      <td>692.0</td>\n",
       "      <td>19</td>\n",
       "      <td>Другое</td>\n",
       "      <td>NaN</td>\n",
       "      <td>NaN</td>\n",
       "      <td>Для дома и дачи</td>\n",
       "      <td>8.006368</td>\n",
       "      <td>Самарская область</td>\n",
       "      <td>Стойка для Одежды</td>\n",
       "      <td>39aeb48f0017</td>\n",
       "      <td>Private</td>\n",
       "      <td>6</td>\n",
       "      <td>12</td>\n",
       "      <td>26</td>\n",
       "    </tr>\n",
       "    <tr>\n",
       "      <th>ba83aefab5dc</th>\n",
       "      <td>Аудио и видео</td>\n",
       "      <td>Ростов-на-Дону</td>\n",
       "      <td>NaN</td>\n",
       "      <td>В хорошем состоянии, домашний кинотеатр с blu ...</td>\n",
       "      <td>3032.0</td>\n",
       "      <td>9</td>\n",
       "      <td>Видео, DVD и Blu-ray плееры</td>\n",
       "      <td>NaN</td>\n",
       "      <td>NaN</td>\n",
       "      <td>Бытовая электроника</td>\n",
       "      <td>8.294050</td>\n",
       "      <td>Ростовская область</td>\n",
       "      <td>Philips bluray</td>\n",
       "      <td>91e2f88dd6e3</td>\n",
       "      <td>Private</td>\n",
       "      <td>0</td>\n",
       "      <td>12</td>\n",
       "      <td>20</td>\n",
       "    </tr>\n",
       "    <tr>\n",
       "      <th>02996f1dd2ea</th>\n",
       "      <td>Товары для детей и игрушки</td>\n",
       "      <td>Набережные Челны</td>\n",
       "      <td>NaN</td>\n",
       "      <td>Продам кресло от0-25кг</td>\n",
       "      <td>796.0</td>\n",
       "      <td>286</td>\n",
       "      <td>Автомобильные кресла</td>\n",
       "      <td>NaN</td>\n",
       "      <td>NaN</td>\n",
       "      <td>Личные вещи</td>\n",
       "      <td>7.696213</td>\n",
       "      <td>Татарстан</td>\n",
       "      <td>Автокресло</td>\n",
       "      <td>bf5cccea572d</td>\n",
       "      <td>Company</td>\n",
       "      <td>5</td>\n",
       "      <td>12</td>\n",
       "      <td>25</td>\n",
       "    </tr>\n",
       "    <tr>\n",
       "      <th>7c90be56d2ab</th>\n",
       "      <td>Автомобили</td>\n",
       "      <td>Волгоград</td>\n",
       "      <td>NaN</td>\n",
       "      <td>Все вопросы по телефону.</td>\n",
       "      <td>2264.0</td>\n",
       "      <td>3</td>\n",
       "      <td>С пробегом</td>\n",
       "      <td>ВАЗ (LADA)</td>\n",
       "      <td>2110</td>\n",
       "      <td>Транспорт</td>\n",
       "      <td>10.596635</td>\n",
       "      <td>Волгоградская область</td>\n",
       "      <td>ВАЗ 2110, 2003</td>\n",
       "      <td>ef50846afc0b</td>\n",
       "      <td>Private</td>\n",
       "      <td>3</td>\n",
       "      <td>11</td>\n",
       "      <td>16</td>\n",
       "    </tr>\n",
       "  </tbody>\n",
       "</table>\n",
       "</div>"
      ],
      "text/plain": [
       "                           category_name              city  deal_probability  \\\n",
       "item_id                                                                        \n",
       "b912c3c6a6ad  Товары для детей и игрушки      Екатеринбург               NaN   \n",
       "2dac0150717d           Мебель и интерьер            Самара               NaN   \n",
       "ba83aefab5dc               Аудио и видео    Ростов-на-Дону               NaN   \n",
       "02996f1dd2ea  Товары для детей и игрушки  Набережные Челны               NaN   \n",
       "7c90be56d2ab                  Автомобили         Волгоград               NaN   \n",
       "\n",
       "                                                    description  image_top_1  \\\n",
       "item_id                                                                        \n",
       "b912c3c6a6ad  Кокон для сна малыша,пользовались меньше месяц...       1008.0   \n",
       "2dac0150717d          Стойка для одежды, под вешалки. С бутика.        692.0   \n",
       "ba83aefab5dc  В хорошем состоянии, домашний кинотеатр с blu ...       3032.0   \n",
       "02996f1dd2ea                             Продам кресло от0-25кг        796.0   \n",
       "7c90be56d2ab                           Все вопросы по телефону.       2264.0   \n",
       "\n",
       "              item_seq_number                      param_1     param_2  \\\n",
       "item_id                                                                  \n",
       "b912c3c6a6ad                2    Постельные принадлежности         NaN   \n",
       "2dac0150717d               19                       Другое         NaN   \n",
       "ba83aefab5dc                9  Видео, DVD и Blu-ray плееры         NaN   \n",
       "02996f1dd2ea              286         Автомобильные кресла         NaN   \n",
       "7c90be56d2ab                3                   С пробегом  ВАЗ (LADA)   \n",
       "\n",
       "             param_3 parent_category_name      price                 region  \\\n",
       "item_id                                                                       \n",
       "b912c3c6a6ad     NaN          Личные вещи   5.991467   Свердловская область   \n",
       "2dac0150717d     NaN      Для дома и дачи   8.006368      Самарская область   \n",
       "ba83aefab5dc     NaN  Бытовая электроника   8.294050     Ростовская область   \n",
       "02996f1dd2ea     NaN          Личные вещи   7.696213              Татарстан   \n",
       "7c90be56d2ab    2110            Транспорт  10.596635  Волгоградская область   \n",
       "\n",
       "                              title       user_id user_type  Weekday  \\\n",
       "item_id                                                                \n",
       "b912c3c6a6ad  Кокоби(кокон для сна)  e00f8ff2eaf9   Private        1   \n",
       "2dac0150717d      Стойка для Одежды  39aeb48f0017   Private        6   \n",
       "ba83aefab5dc         Philips bluray  91e2f88dd6e3   Private        0   \n",
       "02996f1dd2ea             Автокресло  bf5cccea572d   Company        5   \n",
       "7c90be56d2ab         ВАЗ 2110, 2003  ef50846afc0b   Private        3   \n",
       "\n",
       "              Weekd of YEar  Day of Month  \n",
       "item_id                                    \n",
       "b912c3c6a6ad             13            28  \n",
       "2dac0150717d             12            26  \n",
       "ba83aefab5dc             12            20  \n",
       "02996f1dd2ea             12            25  \n",
       "7c90be56d2ab             11            16  "
      ]
     },
     "execution_count": 20,
     "metadata": {},
     "output_type": "execute_result"
    }
   ],
   "source": [
    "df.head()"
   ]
  },
  {
   "cell_type": "code",
   "execution_count": 21,
   "metadata": {},
   "outputs": [
    {
     "name": "stdout",
     "output_type": "stream",
     "text": [
      "Encoding :  ['user_id', 'region', 'city', 'parent_category_name', 'category_name', 'user_type', 'image_top_1', 'param_1', 'param_2', 'param_3']\n"
     ]
    }
   ],
   "source": [
    "categorical = [\"user_id\", \"region\", \"city\", \"parent_category_name\", \n",
    "               \"category_name\",\"user_type\", \"image_top_1\", \"param_1\", \n",
    "               \"param_2\", \"param_3\"]\n",
    "print(\"Encoding : \", categorical) \n",
    "\n",
    "lbl = preprocessing.LabelEncoder() \n",
    "for col in categorical:\n",
    "    df[col].fillna(\"Unknown\") \n",
    "    df[col] = lbl.fit_transform(df[col].astype(str)) "
   ]
  },
  {
   "cell_type": "code",
   "execution_count": 22,
   "metadata": {},
   "outputs": [
    {
     "data": {
      "text/html": [
       "<div>\n",
       "<style>\n",
       "    .dataframe thead tr:only-child th {\n",
       "        text-align: right;\n",
       "    }\n",
       "\n",
       "    .dataframe thead th {\n",
       "        text-align: left;\n",
       "    }\n",
       "\n",
       "    .dataframe tbody tr th {\n",
       "        vertical-align: top;\n",
       "    }\n",
       "</style>\n",
       "<table border=\"1\" class=\"dataframe\">\n",
       "  <thead>\n",
       "    <tr style=\"text-align: right;\">\n",
       "      <th></th>\n",
       "      <th>category_name</th>\n",
       "      <th>city</th>\n",
       "      <th>deal_probability</th>\n",
       "      <th>description</th>\n",
       "      <th>image_top_1</th>\n",
       "      <th>item_seq_number</th>\n",
       "      <th>param_1</th>\n",
       "      <th>param_2</th>\n",
       "      <th>param_3</th>\n",
       "      <th>parent_category_name</th>\n",
       "      <th>price</th>\n",
       "      <th>region</th>\n",
       "      <th>title</th>\n",
       "      <th>user_id</th>\n",
       "      <th>user_type</th>\n",
       "      <th>Weekday</th>\n",
       "      <th>Weekd of YEar</th>\n",
       "      <th>Day of Month</th>\n",
       "    </tr>\n",
       "    <tr>\n",
       "      <th>item_id</th>\n",
       "      <th></th>\n",
       "      <th></th>\n",
       "      <th></th>\n",
       "      <th></th>\n",
       "      <th></th>\n",
       "      <th></th>\n",
       "      <th></th>\n",
       "      <th></th>\n",
       "      <th></th>\n",
       "      <th></th>\n",
       "      <th></th>\n",
       "      <th></th>\n",
       "      <th></th>\n",
       "      <th></th>\n",
       "      <th></th>\n",
       "      <th></th>\n",
       "      <th></th>\n",
       "      <th></th>\n",
       "    </tr>\n",
       "  </thead>\n",
       "  <tbody>\n",
       "    <tr>\n",
       "      <th>b912c3c6a6ad</th>\n",
       "      <td>42</td>\n",
       "      <td>198</td>\n",
       "      <td>NaN</td>\n",
       "      <td>Кокон для сна малыша,пользовались меньше месяц...</td>\n",
       "      <td>12</td>\n",
       "      <td>2</td>\n",
       "      <td>188</td>\n",
       "      <td>45</td>\n",
       "      <td>296</td>\n",
       "      <td>4</td>\n",
       "      <td>5.991467</td>\n",
       "      <td>19</td>\n",
       "      <td>Кокоби(кокон для сна)</td>\n",
       "      <td>16655</td>\n",
       "      <td>1</td>\n",
       "      <td>1</td>\n",
       "      <td>13</td>\n",
       "      <td>28</td>\n",
       "    </tr>\n",
       "    <tr>\n",
       "      <th>2dac0150717d</th>\n",
       "      <td>22</td>\n",
       "      <td>587</td>\n",
       "      <td>NaN</td>\n",
       "      <td>Стойка для одежды, под вешалки. С бутика.</td>\n",
       "      <td>2081</td>\n",
       "      <td>19</td>\n",
       "      <td>89</td>\n",
       "      <td>45</td>\n",
       "      <td>296</td>\n",
       "      <td>2</td>\n",
       "      <td>8.006368</td>\n",
       "      <td>17</td>\n",
       "      <td>Стойка для Одежды</td>\n",
       "      <td>4260</td>\n",
       "      <td>1</td>\n",
       "      <td>6</td>\n",
       "      <td>12</td>\n",
       "      <td>26</td>\n",
       "    </tr>\n",
       "    <tr>\n",
       "      <th>ba83aefab5dc</th>\n",
       "      <td>2</td>\n",
       "      <td>575</td>\n",
       "      <td>NaN</td>\n",
       "      <td>В хорошем состоянии, домашний кинотеатр с blu ...</td>\n",
       "      <td>1702</td>\n",
       "      <td>9</td>\n",
       "      <td>55</td>\n",
       "      <td>45</td>\n",
       "      <td>296</td>\n",
       "      <td>0</td>\n",
       "      <td>8.294050</td>\n",
       "      <td>16</td>\n",
       "      <td>Philips bluray</td>\n",
       "      <td>10754</td>\n",
       "      <td>1</td>\n",
       "      <td>0</td>\n",
       "      <td>12</td>\n",
       "      <td>20</td>\n",
       "    </tr>\n",
       "    <tr>\n",
       "      <th>02996f1dd2ea</th>\n",
       "      <td>42</td>\n",
       "      <td>433</td>\n",
       "      <td>NaN</td>\n",
       "      <td>Продам кресло от0-25кг</td>\n",
       "      <td>2181</td>\n",
       "      <td>286</td>\n",
       "      <td>31</td>\n",
       "      <td>45</td>\n",
       "      <td>296</td>\n",
       "      <td>4</td>\n",
       "      <td>7.696213</td>\n",
       "      <td>21</td>\n",
       "      <td>Автокресло</td>\n",
       "      <td>14168</td>\n",
       "      <td>0</td>\n",
       "      <td>5</td>\n",
       "      <td>12</td>\n",
       "      <td>25</td>\n",
       "    </tr>\n",
       "    <tr>\n",
       "      <th>7c90be56d2ab</th>\n",
       "      <td>0</td>\n",
       "      <td>134</td>\n",
       "      <td>NaN</td>\n",
       "      <td>Все вопросы по телефону.</td>\n",
       "      <td>1075</td>\n",
       "      <td>3</td>\n",
       "      <td>211</td>\n",
       "      <td>57</td>\n",
       "      <td>19</td>\n",
       "      <td>6</td>\n",
       "      <td>10.596635</td>\n",
       "      <td>4</td>\n",
       "      <td>ВАЗ 2110, 2003</td>\n",
       "      <td>17828</td>\n",
       "      <td>1</td>\n",
       "      <td>3</td>\n",
       "      <td>11</td>\n",
       "      <td>16</td>\n",
       "    </tr>\n",
       "  </tbody>\n",
       "</table>\n",
       "</div>"
      ],
      "text/plain": [
       "              category_name  city  deal_probability  \\\n",
       "item_id                                               \n",
       "b912c3c6a6ad             42   198               NaN   \n",
       "2dac0150717d             22   587               NaN   \n",
       "ba83aefab5dc              2   575               NaN   \n",
       "02996f1dd2ea             42   433               NaN   \n",
       "7c90be56d2ab              0   134               NaN   \n",
       "\n",
       "                                                    description  image_top_1  \\\n",
       "item_id                                                                        \n",
       "b912c3c6a6ad  Кокон для сна малыша,пользовались меньше месяц...           12   \n",
       "2dac0150717d          Стойка для одежды, под вешалки. С бутика.         2081   \n",
       "ba83aefab5dc  В хорошем состоянии, домашний кинотеатр с blu ...         1702   \n",
       "02996f1dd2ea                             Продам кресло от0-25кг         2181   \n",
       "7c90be56d2ab                           Все вопросы по телефону.         1075   \n",
       "\n",
       "              item_seq_number  param_1  param_2  param_3  \\\n",
       "item_id                                                    \n",
       "b912c3c6a6ad                2      188       45      296   \n",
       "2dac0150717d               19       89       45      296   \n",
       "ba83aefab5dc                9       55       45      296   \n",
       "02996f1dd2ea              286       31       45      296   \n",
       "7c90be56d2ab                3      211       57       19   \n",
       "\n",
       "              parent_category_name      price  region                  title  \\\n",
       "item_id                                                                        \n",
       "b912c3c6a6ad                     4   5.991467      19  Кокоби(кокон для сна)   \n",
       "2dac0150717d                     2   8.006368      17      Стойка для Одежды   \n",
       "ba83aefab5dc                     0   8.294050      16         Philips bluray   \n",
       "02996f1dd2ea                     4   7.696213      21             Автокресло   \n",
       "7c90be56d2ab                     6  10.596635       4         ВАЗ 2110, 2003   \n",
       "\n",
       "              user_id  user_type  Weekday  Weekd of YEar  Day of Month  \n",
       "item_id                                                                 \n",
       "b912c3c6a6ad    16655          1        1             13            28  \n",
       "2dac0150717d     4260          1        6             12            26  \n",
       "ba83aefab5dc    10754          1        0             12            20  \n",
       "02996f1dd2ea    14168          0        5             12            25  \n",
       "7c90be56d2ab    17828          1        3             11            16  "
      ]
     },
     "execution_count": 22,
     "metadata": {},
     "output_type": "execute_result"
    }
   ],
   "source": [
    "df.head()"
   ]
  },
  {
   "cell_type": "code",
   "execution_count": 23,
   "metadata": {
    "collapsed": true
   },
   "outputs": [],
   "source": [
    "textfeats = [\"description\", \"title\"]\n",
    "df[\"desc_punc\"] = df[\"description\"].apply(lambda x: \n",
    "                                           len([c for c in str(x) if c in string.punctuation])) \n"
   ]
  },
  {
   "cell_type": "code",
   "execution_count": 24,
   "metadata": {},
   "outputs": [
    {
     "data": {
      "text/plain": [
       "item_id\n",
       "b912c3c6a6ad    2\n",
       "2dac0150717d    3\n",
       "ba83aefab5dc    5\n",
       "02996f1dd2ea    1\n",
       "7c90be56d2ab    1\n",
       "51e0962387f7    0\n",
       "c4f260a2b48a    7\n",
       "6b71309d6a8a    1\n",
       "c5b969cb63a2    0\n",
       "b1570962e68c    2\n",
       "Name: desc_punc, dtype: int64"
      ]
     },
     "execution_count": 24,
     "metadata": {},
     "output_type": "execute_result"
    }
   ],
   "source": [
    "df[\"desc_punc\"][:10]"
   ]
  },
  {
   "cell_type": "code",
   "execution_count": 25,
   "metadata": {
    "collapsed": true
   },
   "outputs": [],
   "source": [
    "df[\"title\"] = df[\"title\"].apply(lambda x: cleanName(x)) \n",
    "df[\"description\"] = df[\"description\"].apply(lambda x: cleanName(x))"
   ]
  },
  {
   "cell_type": "code",
   "execution_count": 26,
   "metadata": {},
   "outputs": [
    {
     "data": {
      "text/plain": [
       "item_id\n",
       "b912c3c6a6ad    кокон для сна малыша,пользовались меньше месяц...\n",
       "2dac0150717d            стойка для одежды, под вешалки. с бутика.\n",
       "ba83aefab5dc    в хорошем состоянии, домашний кинотеатр с blu ...\n",
       "02996f1dd2ea                               продам кресло от0-25кг\n",
       "7c90be56d2ab                             все вопросы по телефону.\n",
       "51e0962387f7                                  в хорошем состоянии\n",
       "c4f260a2b48a    электро водонагреватель накопительный на 100 л...\n",
       "6b71309d6a8a                       бойфренды в хорошем состоянии.\n",
       "c5b969cb63a2                             54 раз мер очень удобное\n",
       "b1570962e68c    по стельке 15.5см мерить приокский район. цвет...\n",
       "d5480bb4a6e4    сдается однокомнатная мебелированная квартира ...\n",
       "86f41f50d8c1                                           name error\n",
       "645237cb3601    атлас история нового времени,19 век./ контурны...\n",
       "df2116f34563     продам манитор 18.5 v193hqv. в хорошем состоянии\n",
       "a97943ae8158               родились 1 февраля,три кобеля и сучка.\n",
       "4b6abd0a5921    одето 1 раз на пару часов. длина 79. можно кор...\n",
       "7896ef8fe482    кондиционер, гидроусилитель руля, электрически...\n",
       "7882b1e77748    размеры 75*53*15. основа-картон, декор-гофриро...\n",
       "071e1ed13c5c    куртка новая, очень удобная, ценник был утерян...\n",
       "0658628930d4    семейная пара из двух человек снимет коттедж с...\n",
       "Name: description, dtype: object"
      ]
     },
     "execution_count": 26,
     "metadata": {},
     "output_type": "execute_result"
    }
   ],
   "source": [
    "df[\"description\"][:20]"
   ]
  },
  {
   "cell_type": "code",
   "execution_count": 27,
   "metadata": {
    "collapsed": true
   },
   "outputs": [],
   "source": [
    "for cols in textfeats:\n",
    "    df[cols] = df[cols].astype(str) \n",
    "    df[cols] = df[cols].astype(str).fillna(\"missing\")\n",
    "    df[cols] = df[cols].str.lower() \n",
    "    df[cols + \"_num_words\"] = df[cols].apply(lambda comment: \n",
    "                                             len(comment.split())) \n",
    "    df[cols + \"_num_unique_words\"]  = df[cols].apply(lambda comment:\n",
    "                                                    len(set(w for w in comment.split())))  \n",
    "    # 集合にして単語の種類を抽出\n",
    "    "
   ]
  },
  {
   "cell_type": "code",
   "execution_count": 28,
   "metadata": {
    "collapsed": true
   },
   "outputs": [],
   "source": [
    "for cols in textfeats:\n",
    "    df[cols + '_words_vs_unique'] = df[cols+'_num_unique_words'] / df[cols+'_num_words'] * 100 # Count unique words "
   ]
  },
  {
   "cell_type": "code",
   "execution_count": 29,
   "metadata": {},
   "outputs": [
    {
     "name": "stdout",
     "output_type": "stream",
     "text": [
      "[TF-IDF] Term Frequency Inverse Document Frequency Stage\n"
     ]
    }
   ],
   "source": [
    "print(\"[TF-IDF] Term Frequency Inverse Document Frequency Stage\")\n",
    "russian_stop = set(stopwords.words(\"russian\")) \n",
    "# ロシア語で一般的に使われている単語のリスト"
   ]
  },
  {
   "cell_type": "code",
   "execution_count": 30,
   "metadata": {
    "collapsed": true
   },
   "outputs": [],
   "source": [
    "stop_words = stopwords.words(\"english\") "
   ]
  },
  {
   "cell_type": "code",
   "execution_count": 31,
   "metadata": {
    "collapsed": true
   },
   "outputs": [],
   "source": [
    "tfidf_para = {\n",
    "    \"stop_words\": russian_stop,\n",
    "    \"analyzer\": \"word\",\n",
    "    \"token_pattern\": r'\\w{1,}',\n",
    "    \"sublinear_tf\":True,\n",
    "    \"dtype\": np.float32,\n",
    "    \"norm\": \"l2\",\n",
    "    # \"min_df\": 5,\n",
    "    # \"max_df\":9,\n",
    "    \"smooth_idf\": False\n",
    "}\n",
    "# minとmaxは何かしら影響があるかもしれない\n",
    "def get_col(col_name): return lambda x: x[col_name] "
   ]
  },
  {
   "cell_type": "code",
   "execution_count": 32,
   "metadata": {
    "collapsed": true
   },
   "outputs": [],
   "source": [
    "vectorizer = FeatureUnion([\n",
    "    (\"description\", TfidfVectorizer(\n",
    "    ngram_range=(1, 2),\n",
    "    max_features = 17000,\n",
    "    **tfidf_para,\n",
    "    preprocessor=get_col('description'))),\n",
    "    (\"title\", CountVectorizer(\n",
    "    ngram_range=(1, 2),\n",
    "    stop_words = russian_stop,\n",
    "    # max_feaures = 7000,\n",
    "    preprocessor=get_col('title')))\n",
    "])"
   ]
  },
  {
   "cell_type": "code",
   "execution_count": 33,
   "metadata": {
    "collapsed": true
   },
   "outputs": [],
   "source": [
    "vectorizer.fit(df.to_dict(\"records\")) \n",
    "\n",
    "ready_df = vectorizer.transform(df.to_dict(\"records\")) \n",
    "tfvocab = vectorizer.get_feature_names() \n"
   ]
  },
  {
   "cell_type": "code",
   "execution_count": 34,
   "metadata": {
    "collapsed": true,
    "scrolled": true
   },
   "outputs": [],
   "source": [
    "textfeats = [\"description\", \"title\"] \n",
    "df.drop(textfeats, axis=1, inplace=True) "
   ]
  },
  {
   "cell_type": "code",
   "execution_count": 35,
   "metadata": {},
   "outputs": [
    {
     "data": {
      "text/html": [
       "<div>\n",
       "<style>\n",
       "    .dataframe thead tr:only-child th {\n",
       "        text-align: right;\n",
       "    }\n",
       "\n",
       "    .dataframe thead th {\n",
       "        text-align: left;\n",
       "    }\n",
       "\n",
       "    .dataframe tbody tr th {\n",
       "        vertical-align: top;\n",
       "    }\n",
       "</style>\n",
       "<table border=\"1\" class=\"dataframe\">\n",
       "  <thead>\n",
       "    <tr style=\"text-align: right;\">\n",
       "      <th></th>\n",
       "      <th>category_name</th>\n",
       "      <th>city</th>\n",
       "      <th>deal_probability</th>\n",
       "      <th>image_top_1</th>\n",
       "      <th>item_seq_number</th>\n",
       "      <th>param_1</th>\n",
       "      <th>param_2</th>\n",
       "      <th>param_3</th>\n",
       "      <th>parent_category_name</th>\n",
       "      <th>price</th>\n",
       "      <th>...</th>\n",
       "      <th>Weekday</th>\n",
       "      <th>Weekd of YEar</th>\n",
       "      <th>Day of Month</th>\n",
       "      <th>desc_punc</th>\n",
       "      <th>description_num_words</th>\n",
       "      <th>description_num_unique_words</th>\n",
       "      <th>title_num_words</th>\n",
       "      <th>title_num_unique_words</th>\n",
       "      <th>description_words_vs_unique</th>\n",
       "      <th>title_words_vs_unique</th>\n",
       "    </tr>\n",
       "    <tr>\n",
       "      <th>item_id</th>\n",
       "      <th></th>\n",
       "      <th></th>\n",
       "      <th></th>\n",
       "      <th></th>\n",
       "      <th></th>\n",
       "      <th></th>\n",
       "      <th></th>\n",
       "      <th></th>\n",
       "      <th></th>\n",
       "      <th></th>\n",
       "      <th></th>\n",
       "      <th></th>\n",
       "      <th></th>\n",
       "      <th></th>\n",
       "      <th></th>\n",
       "      <th></th>\n",
       "      <th></th>\n",
       "      <th></th>\n",
       "      <th></th>\n",
       "      <th></th>\n",
       "      <th></th>\n",
       "    </tr>\n",
       "  </thead>\n",
       "  <tbody>\n",
       "    <tr>\n",
       "      <th>b912c3c6a6ad</th>\n",
       "      <td>42</td>\n",
       "      <td>198</td>\n",
       "      <td>NaN</td>\n",
       "      <td>12</td>\n",
       "      <td>2</td>\n",
       "      <td>188</td>\n",
       "      <td>45</td>\n",
       "      <td>296</td>\n",
       "      <td>4</td>\n",
       "      <td>5.991467</td>\n",
       "      <td>...</td>\n",
       "      <td>1</td>\n",
       "      <td>13</td>\n",
       "      <td>28</td>\n",
       "      <td>2</td>\n",
       "      <td>7</td>\n",
       "      <td>7</td>\n",
       "      <td>3</td>\n",
       "      <td>3</td>\n",
       "      <td>100.0</td>\n",
       "      <td>100.0</td>\n",
       "    </tr>\n",
       "    <tr>\n",
       "      <th>2dac0150717d</th>\n",
       "      <td>22</td>\n",
       "      <td>587</td>\n",
       "      <td>NaN</td>\n",
       "      <td>2081</td>\n",
       "      <td>19</td>\n",
       "      <td>89</td>\n",
       "      <td>45</td>\n",
       "      <td>296</td>\n",
       "      <td>2</td>\n",
       "      <td>8.006368</td>\n",
       "      <td>...</td>\n",
       "      <td>6</td>\n",
       "      <td>12</td>\n",
       "      <td>26</td>\n",
       "      <td>3</td>\n",
       "      <td>7</td>\n",
       "      <td>7</td>\n",
       "      <td>3</td>\n",
       "      <td>3</td>\n",
       "      <td>100.0</td>\n",
       "      <td>100.0</td>\n",
       "    </tr>\n",
       "    <tr>\n",
       "      <th>ba83aefab5dc</th>\n",
       "      <td>2</td>\n",
       "      <td>575</td>\n",
       "      <td>NaN</td>\n",
       "      <td>1702</td>\n",
       "      <td>9</td>\n",
       "      <td>55</td>\n",
       "      <td>45</td>\n",
       "      <td>296</td>\n",
       "      <td>0</td>\n",
       "      <td>8.294050</td>\n",
       "      <td>...</td>\n",
       "      <td>0</td>\n",
       "      <td>12</td>\n",
       "      <td>20</td>\n",
       "      <td>5</td>\n",
       "      <td>17</td>\n",
       "      <td>17</td>\n",
       "      <td>2</td>\n",
       "      <td>2</td>\n",
       "      <td>100.0</td>\n",
       "      <td>100.0</td>\n",
       "    </tr>\n",
       "    <tr>\n",
       "      <th>02996f1dd2ea</th>\n",
       "      <td>42</td>\n",
       "      <td>433</td>\n",
       "      <td>NaN</td>\n",
       "      <td>2181</td>\n",
       "      <td>286</td>\n",
       "      <td>31</td>\n",
       "      <td>45</td>\n",
       "      <td>296</td>\n",
       "      <td>4</td>\n",
       "      <td>7.696213</td>\n",
       "      <td>...</td>\n",
       "      <td>5</td>\n",
       "      <td>12</td>\n",
       "      <td>25</td>\n",
       "      <td>1</td>\n",
       "      <td>3</td>\n",
       "      <td>3</td>\n",
       "      <td>1</td>\n",
       "      <td>1</td>\n",
       "      <td>100.0</td>\n",
       "      <td>100.0</td>\n",
       "    </tr>\n",
       "    <tr>\n",
       "      <th>7c90be56d2ab</th>\n",
       "      <td>0</td>\n",
       "      <td>134</td>\n",
       "      <td>NaN</td>\n",
       "      <td>1075</td>\n",
       "      <td>3</td>\n",
       "      <td>211</td>\n",
       "      <td>57</td>\n",
       "      <td>19</td>\n",
       "      <td>6</td>\n",
       "      <td>10.596635</td>\n",
       "      <td>...</td>\n",
       "      <td>3</td>\n",
       "      <td>11</td>\n",
       "      <td>16</td>\n",
       "      <td>1</td>\n",
       "      <td>4</td>\n",
       "      <td>4</td>\n",
       "      <td>3</td>\n",
       "      <td>3</td>\n",
       "      <td>100.0</td>\n",
       "      <td>100.0</td>\n",
       "    </tr>\n",
       "  </tbody>\n",
       "</table>\n",
       "<p>5 rows × 23 columns</p>\n",
       "</div>"
      ],
      "text/plain": [
       "              category_name  city  deal_probability  image_top_1  \\\n",
       "item_id                                                            \n",
       "b912c3c6a6ad             42   198               NaN           12   \n",
       "2dac0150717d             22   587               NaN         2081   \n",
       "ba83aefab5dc              2   575               NaN         1702   \n",
       "02996f1dd2ea             42   433               NaN         2181   \n",
       "7c90be56d2ab              0   134               NaN         1075   \n",
       "\n",
       "              item_seq_number  param_1  param_2  param_3  \\\n",
       "item_id                                                    \n",
       "b912c3c6a6ad                2      188       45      296   \n",
       "2dac0150717d               19       89       45      296   \n",
       "ba83aefab5dc                9       55       45      296   \n",
       "02996f1dd2ea              286       31       45      296   \n",
       "7c90be56d2ab                3      211       57       19   \n",
       "\n",
       "              parent_category_name      price          ...            Weekday  \\\n",
       "item_id                                                ...                      \n",
       "b912c3c6a6ad                     4   5.991467          ...                  1   \n",
       "2dac0150717d                     2   8.006368          ...                  6   \n",
       "ba83aefab5dc                     0   8.294050          ...                  0   \n",
       "02996f1dd2ea                     4   7.696213          ...                  5   \n",
       "7c90be56d2ab                     6  10.596635          ...                  3   \n",
       "\n",
       "              Weekd of YEar  Day of Month  desc_punc  description_num_words  \\\n",
       "item_id                                                                       \n",
       "b912c3c6a6ad             13            28          2                      7   \n",
       "2dac0150717d             12            26          3                      7   \n",
       "ba83aefab5dc             12            20          5                     17   \n",
       "02996f1dd2ea             12            25          1                      3   \n",
       "7c90be56d2ab             11            16          1                      4   \n",
       "\n",
       "              description_num_unique_words  title_num_words  \\\n",
       "item_id                                                       \n",
       "b912c3c6a6ad                             7                3   \n",
       "2dac0150717d                             7                3   \n",
       "ba83aefab5dc                            17                2   \n",
       "02996f1dd2ea                             3                1   \n",
       "7c90be56d2ab                             4                3   \n",
       "\n",
       "              title_num_unique_words  description_words_vs_unique  \\\n",
       "item_id                                                             \n",
       "b912c3c6a6ad                       3                        100.0   \n",
       "2dac0150717d                       3                        100.0   \n",
       "ba83aefab5dc                       2                        100.0   \n",
       "02996f1dd2ea                       1                        100.0   \n",
       "7c90be56d2ab                       3                        100.0   \n",
       "\n",
       "              title_words_vs_unique  \n",
       "item_id                              \n",
       "b912c3c6a6ad                  100.0  \n",
       "2dac0150717d                  100.0  \n",
       "ba83aefab5dc                  100.0  \n",
       "02996f1dd2ea                  100.0  \n",
       "7c90be56d2ab                  100.0  \n",
       "\n",
       "[5 rows x 23 columns]"
      ]
     },
     "execution_count": 35,
     "metadata": {},
     "output_type": "execute_result"
    }
   ],
   "source": [
    "df.head()"
   ]
  },
  {
   "cell_type": "code",
   "execution_count": 40,
   "metadata": {
    "collapsed": true
   },
   "outputs": [],
   "source": [
    "np.save(\"word_vector_10000.npy\", ready_df)"
   ]
  },
  {
   "cell_type": "code",
   "execution_count": 42,
   "metadata": {
    "collapsed": true
   },
   "outputs": [],
   "source": [
    "from sklearn.metrics import mean_squared_error \n",
    "from math import sqrt \n",
    "# alphaの値を30から20に変えた。regula\n",
    "ridge_params = {\"alpha\": 20.0, \"fit_intercept\":True, \"normalize\":False,\n",
    "               \"copy_X\": True, \"max_iter\":None, \"tol\":0.001, 'solver':'auto',\n",
    "               'random_state': SEED} \n"
   ]
  },
  {
   "cell_type": "code",
   "execution_count": 43,
   "metadata": {},
   "outputs": [
    {
     "data": {
      "text/plain": [
       "FeatureUnion(n_jobs=1,\n",
       "       transformer_list=[('description', TfidfVectorizer(analyzer='word', binary=False, decode_error='strict',\n",
       "        dtype=<class 'numpy.float32'>, encoding='utf-8', input='content',\n",
       "        lowercase=True, max_df=1.0, max_features=17000, min_df=1,\n",
       "        ngram_range=(1, 2), norm='l2',\n",
       "        preproces...   strip_accents=None, token_pattern='(?u)\\\\b\\\\w\\\\w+\\\\b',\n",
       "        tokenizer=None, vocabulary=None))],\n",
       "       transformer_weights=None)"
      ]
     },
     "execution_count": 43,
     "metadata": {},
     "output_type": "execute_result"
    }
   ],
   "source": [
    "vectorizer"
   ]
  },
  {
   "cell_type": "code",
   "execution_count": 44,
   "metadata": {},
   "outputs": [
    {
     "name": "stdout",
     "output_type": "stream",
     "text": [
      "Fold 0\n",
      "Fold 1\n",
      "Fold 2\n",
      "Fold 3\n",
      "Fold 4\n",
      "Ridge OOF RMSE: 0.24580279878153855\n"
     ]
    }
   ],
   "source": [
    "ridge = SklearnWrapper(clf=Ridge, seed = SEED, params = ridge_params) \n",
    "ridge_oof_train, ridge_oof_test = get_oof(ridge,\n",
    "                                         ready_df[:ntrain], y, ready_df[ntrain:])\n",
    "rms = sqrt(mean_squared_error(y, ridge_oof_train))\n",
    "print(\"Ridge OOF RMSE: {}\".format(rms))"
   ]
  },
  {
   "cell_type": "code",
   "execution_count": 48,
   "metadata": {
    "collapsed": true
   },
   "outputs": [],
   "source": [
    "ridge_preds = np.concatenate([ridge_oof_train, ridge_oof_test]) \n",
    "\n",
    "df[\"ridge_preds\"]  = ridge_preds \n",
    "words = ready_df.copy()"
   ]
  },
  {
   "cell_type": "code",
   "execution_count": 49,
   "metadata": {
    "collapsed": true
   },
   "outputs": [],
   "source": [
    "X = hstack([csr_matrix(df.loc[traindex, :].values), \n",
    "           ready_df[:traindex.shape[0]]]) \n",
    "testing = hstack([csr_matrix(df.loc[testdex,:].values),\n",
    "                 ready_df[traindex.shape[0]:]])\n",
    "tfvocab = df.columns.tolist() + tfvocab "
   ]
  },
  {
   "cell_type": "code",
   "execution_count": null,
   "metadata": {
    "collapsed": true
   },
   "outputs": [],
   "source": [
    "from sklearn.manifold import TSNE \n",
    "from sklearn.decomposition import TruncatedSVD \n",
    "svd = TruncatedSVD(n_components=1000, n_iter=10)\n",
    "new_words = svd.fit_transform(words)\n",
    "words_embedded = TSNE(n_components=2).fit_transform(new_words) "
   ]
  },
  {
   "cell_type": "code",
   "execution_count": 131,
   "metadata": {},
   "outputs": [
    {
     "data": {
      "text/plain": [
       "(10000,)"
      ]
     },
     "execution_count": 131,
     "metadata": {},
     "output_type": "execute_result"
    }
   ],
   "source": [
    "traindex.shape"
   ]
  },
  {
   "cell_type": "code",
   "execution_count": 132,
   "metadata": {},
   "outputs": [
    {
     "data": {
      "text/plain": [
       "(10000, 58013)"
      ]
     },
     "execution_count": 132,
     "metadata": {},
     "output_type": "execute_result"
    }
   ],
   "source": [
    "ready_df[:traindex.shape[0]].shape"
   ]
  },
  {
   "cell_type": "code",
   "execution_count": 133,
   "metadata": {},
   "outputs": [
    {
     "name": "stdout",
     "output_type": "stream",
     "text": [
      "10000 Rows and 58037 Cols\n",
      "10000 Rows and 58037 Cols\n"
     ]
    }
   ],
   "source": [
    "for shape in [X, testing]:\n",
    "    print(\"{} Rows and {} Cols\".format(*shape.shape))"
   ]
  },
  {
   "cell_type": "code",
   "execution_count": 134,
   "metadata": {},
   "outputs": [
    {
     "name": "stdout",
     "output_type": "stream",
     "text": [
      "Feature Names Length:  58037\n"
     ]
    }
   ],
   "source": [
    "print(\"Feature Names Length: \", len(tfvocab)) "
   ]
  },
  {
   "cell_type": "code",
   "execution_count": 135,
   "metadata": {
    "collapsed": true
   },
   "outputs": [],
   "source": [
    "del df "
   ]
  },
  {
   "cell_type": "code",
   "execution_count": 136,
   "metadata": {},
   "outputs": [
    {
     "data": {
      "text/plain": [
       "351"
      ]
     },
     "execution_count": 136,
     "metadata": {},
     "output_type": "execute_result"
    }
   ],
   "source": [
    "gc.collect()"
   ]
  },
  {
   "cell_type": "code",
   "execution_count": 137,
   "metadata": {
    "collapsed": true
   },
   "outputs": [],
   "source": [
    "del ridge_preds, vectorizer, ready_df "
   ]
  },
  {
   "cell_type": "code",
   "execution_count": 138,
   "metadata": {},
   "outputs": [
    {
     "data": {
      "text/plain": [
       "0"
      ]
     },
     "execution_count": 138,
     "metadata": {},
     "output_type": "execute_result"
    }
   ],
   "source": [
    "gc.collect()"
   ]
  },
  {
   "cell_type": "code",
   "execution_count": 139,
   "metadata": {},
   "outputs": [
    {
     "name": "stdout",
     "output_type": "stream",
     "text": [
      "Light Gradient Boosting Regressor\n"
     ]
    }
   ],
   "source": [
    "print(\"Light Gradient Boosting Regressor\") \n",
    "lgbm_params = {\n",
    "    \"task\" : \"train\", \n",
    "    \"boosting_type\": \"gbdt\",\n",
    "    \"objective\": \"regression\",\n",
    "    \"metric\" : \"rmse\",\n",
    "    # \"max_depth\" : 15, \n",
    "    \"run_leaves\" : 270,\n",
    "    \"feature_fraction\": 0.5, \n",
    "    \"bagging_fraction\": 0.75,\n",
    "    \"bagging_freq\": 2, \n",
    "    \"learning_rate\": 0.016, \n",
    "    \"verbose\": 0\n",
    "}\n",
    "np.save(\"X.npy\", X)\n",
    "np.save(\"testing.npy\", testing)\n",
    "np.save(\"y.npy\", y) \n",
    "np.save(\"testing_y.npy\", validation.values)"
   ]
  },
  {
   "cell_type": "code",
   "execution_count": 140,
   "metadata": {},
   "outputs": [
    {
     "name": "stderr",
     "output_type": "stream",
     "text": [
      "/Users/oharasoh/.pyenv/versions/3.5.3/lib/python3.5/site-packages/lightgbm/basic.py:1036: UserWarning: Using categorical_feature in Dataset.\n",
      "  warnings.warn('Using categorical_feature in Dataset.')\n"
     ]
    }
   ],
   "source": [
    "lgtrain = lgb.Dataset(X, y,\n",
    "                     feature_name = tfvocab, \n",
    "                     categorical_feature = categorical) \n",
    "\n",
    "del X; gc.collect() \n",
    "# Go Go Go\n",
    "lgb_clf = lgb.train(\n",
    "lgbm_params,\n",
    "lgtrain,\n",
    "num_boost_round=1550,\n",
    "verbose_eval=100\n",
    ")"
   ]
  },
  {
   "cell_type": "code",
   "execution_count": 141,
   "metadata": {},
   "outputs": [
    {
     "data": {
      "text/plain": [
       "<matplotlib.text.Text at 0x113884c50>"
      ]
     },
     "execution_count": 141,
     "metadata": {},
     "output_type": "execute_result"
    },
    {
     "data": {
      "image/png": "[encoded data removed]",
      "text/plain": [
       "<matplotlib.figure.Figure at 0x122c117b8>"
      ]
     },
     "metadata": {},
     "output_type": "display_data"
    }
   ],
   "source": [
    "%matplotlib inline\n",
    "f, ax = plt.subplots(figsize=[7,10]) \n",
    "lgb.plot_importance(lgb_clf, max_num_features=50, ax=ax) \n",
    "plt.title(\"Light GBM Feature Importance\") \n"
   ]
  },
  {
   "cell_type": "code",
   "execution_count": 142,
   "metadata": {},
   "outputs": [
    {
     "name": "stderr",
     "output_type": "stream",
     "text": [
      "/Users/oharasoh/.pyenv/versions/3.5.3/lib/python3.5/site-packages/lightgbm/basic.py:447: UserWarning: Converting data to scipy sparse matrix.\n",
      "  warnings.warn('Converting data to scipy sparse matrix.')\n"
     ]
    }
   ],
   "source": [
    "lgpred = lgb_clf.predict(testing) \n",
    "blend = 0.8*lgpred + 0.2*ridge_oof_test[:, 0] \n",
    "\n",
    "lgsub = pd.DataFrame(blend, columns=[\"deal_probability\"], \n",
    "                    index=testdex)\n",
    "\n"
   ]
  },
  {
   "cell_type": "code",
   "execution_count": 143,
   "metadata": {
    "collapsed": true
   },
   "outputs": [],
   "source": [
    "lgsub[\"deal_probability\"] = lgsub['deal_probability'].clip(0.0, 1.0)\n",
    "lgsub.to_csv(\"lgsub.csv\", index=True, header=True) "
   ]
  },
  {
   "cell_type": "code",
   "execution_count": 144,
   "metadata": {
    "collapsed": true
   },
   "outputs": [],
   "source": [
    "for_valid = pd.DataFrame({\"prediction\": blend, \"t\": validation}, index=testdex)"
   ]
  },
  {
   "cell_type": "code",
   "execution_count": 20,
   "metadata": {
    "collapsed": true
   },
   "outputs": [],
   "source": [
    "import pandas as pd \n",
    "import numpy as np\n",
    "import time \n",
    "import gc"
   ]
  },
  {
   "cell_type": "code",
   "execution_count": 21,
   "metadata": {},
   "outputs": [],
   "source": [
    "np.random.seed(42)\n",
    "\n",
    "from sklearn.model_selection import train_test_split \n",
    "from sklearn.metrics import roc_auc_score \n",
    "from sklearn.model_selection import StratifiedKFold\n",
    "\n",
    "from keras.models import Model \n",
    "from keras.layers import Input, Dropout, Dense, Embedding, SpatialDropout1D,concatenate\n",
    "from keras.layers import GRU, Bidirectional, GlobalAveragePooling1D, GlobalMaxPooling1D, BatchNormalization, Conv1D, MaxPooling1D, Flatten \n",
    "from keras.preprocessing.sequence import pad_sequences \n",
    "from keras.preprocessing import text, sequence \n",
    "from keras.callbacks import Callback \n",
    "from keras import backend as K \n",
    "from keras.models import Model \n",
    "\n",
    "from keras import optimizers \n",
    "\n",
    "from sklearn.preprocessing import LabelBinarizer \n",
    "from sklearn.preprocessing import LabelEncoder, MinMaxScaler, StandardScaler \n",
    "\n",
    "import warnings \n",
    "\n",
    "warnings.filterwarnings('ignore') \n",
    "\n",
    "import os \n",
    "os.environ['OMP_NUM_THREADS'] = '4' \n",
    "\n",
    "import threading \n",
    "import multiprocessing \n",
    "from multiprocessing import Pool, cpu_count \n",
    "from contextlib import closing \n",
    "cores = 4 \n",
    "\n",
    "from keras.optimizers import RMSprop, Adam\n",
    "from keras.callbacks import ModelCheckpoint, EarlyStopping\n",
    "\n",
    "def root_mean_squared_error(y_true, y_pred):\n",
    "    return K.sqrt(K.mean(K.square(y_true - y_pred))) "
   ]
  },
  {
   "cell_type": "code",
   "execution_count": null,
   "metadata": {
    "collapsed": true
   },
   "outputs": [],
   "source": [
    "def preprocess_dataset(df):\n",
    "    t1 = time.time() \n",
    "    print(\"Filling Missing Values ...\")\n",
    "    param_list = ['param_1', 'param_2', 'param_3']\n",
    "    df['price'] = df['price'].fillna(0).astype('float32') \n",
    "    for i in range(len(param_list)):\n",
    "        df[param_list[i]].fillna(value='missing', inplace=True) \n",
    "        df[param_list[i]] = df[param_list[i]].astype(str) \n",
    "   \n",
    "    print(\"Casting data types to type Category....\") \n",
    "    df['category_name'] = df['category_name'].astype('category') \n",
    "    df['parent_category_name'] = df['parent_category_name'].astype('category') \n",
    "    df['region'] = df['region'].astype('category') \n",
    "    df['city'] = df['city'].astype('category') \n",
    "    \n",
    "    df['image_top_1'].fillna(value='missing', inplace=True) \n",
    "    df['image_code'] = df['image_top_1'].astype('str') \n",
    "    del df['image_top_1'] \n",
    "    gc.collect(); \n",
    "    df['week'] = pd.to_datetime(df['activation_date']).dt.week.astype('uint8')\n",
    "    df['day'] = pd.to_datetime(df['activation_date']).dt.day.astype('uint8')\n",
    "    df['wday'] = pd.to_datetime(df['activation_date']).dt.dayofweek.astype('uint8')\n",
    "    \n",
    "    del df['activation_date'] \n",
    "    gc.collect(); \n",
    "    \n",
    "    print('Creating New Feature ...')\n",
    "    df['param123'] = (df['param_1']+'_'+df['param_2']+'_'+df['param_3']).astype(str)\n",
    "    del df['param_2'], df['param_3']\n",
    "    gc.collect();\n",
    "    \n",
    "    print('PreProcessing Function completed.') \n",
    "    print(\"columns is \", df.columns)\n",
    "    \n",
    "    return df \n",
    "\n",
    "\n",
    "def keras_fit(train):\n",
    "    \n",
    "    t1 = time.time() \n",
    "    train['title_description'] = (train['title'] + \" \" + train['description']).astype(str) \n",
    "    del train['description'], train['title'] \n",
    "    gc.collect() \n",
    "    \n",
    "    print(\"Start Tokenization ...\")\n",
    "    tokenizer = text.Tokenizer(num_words=max_words_title_description)\n",
    "    # Tokenizerはscikitlearnのツールっぽい\n",
    "    all_text = np.hstack([train['title_description'].str.lower()])\n",
    "    tokenizer.fit_on_texts(all_text) \n",
    "    del all_text \n",
    "    gc.collect()\n",
    "    \n",
    "    print(\"Loading Test for Label Encoding on Train + Test\") \n",
    "    use_cols_test = ['region', 'city', 'parent_category_name', 'category_name',\n",
    "                    'param_1', 'param_2', 'param_3', 'image_top_1', 'activation_date'] \n",
    "    test = pd.read_csv(\"test.csv\", usecols=use_cols_test, nrows=20000) \n",
    "    \n",
    "    test['image_top_1'] = test['image_top_1'].fillna('missing') \n",
    "    test['image_code'] = test['image_top_1'].astype('str') \n",
    "    del test['image_top_1'] \n",
    "    gc.collect() \n",
    "    \n",
    "    test['week'] = pd.to_datetime(test['activation_date']).dt.week.astype('uint8')\n",
    "    test['day'] = pd.to_datetime(test['activation_date']).dt.day.astype('uint8') \n",
    "    test['wday'] = pd.to_datetime(test['activation_date']).dt.dayofweek.astype('uint8') \n",
    "    \n",
    "    del test['activation_date'] \n",
    "    \n",
    "    test['param_1'].fillna(value='missing', inplace=True) \n",
    "    test['param_1'] = test['param_1'].astype(str) \n",
    "    test['param_2'].fillna(value='missing', inplace=True) \n",
    "    test['param_2'] = test['param_2'].astype(str) \n",
    "    test['param_3'].fillna(value='missing', inplace=True) \n",
    "    test['param_3'] = test['param_3'].astype(str) \n",
    "    \n",
    "    print('Creating New Feature....') \n",
    "    test['param123'] = (test['param_1']+'_'+test['param_2']+'_' +test['param_3']).astype(str)\n",
    "    del test['param_2'], test['param_3']\n",
    "    gc.collect() \n",
    "    \n",
    "    ntrain = train.shape[0] \n",
    "    DF = pd.concat([train, test], axis=0) \n",
    "    del train, test \n",
    "    gc.collect() \n",
    "    print(DF.shape) \n",
    "    \n",
    "    print(\"Start Label Encoding process....\")\n",
    "    le_region = LabelEncoder() \n",
    "    le_region.fit(DF.region) \n",
    "    \n",
    "    le_city = LabelEncoder() \n",
    "    le_city.fit(DF.city) \n",
    "    \n",
    "    le_category_name = LabelEncoder() \n",
    "    le_category_name.fit(DF.category_name)\n",
    "    \n",
    "    le_parent_category_name = LabelEncoder() \n",
    "    le_parent_category_name.fit(DF.parent_category_name) \n",
    "    \n",
    "    le_param_1 = LabelEncoder() \n",
    "    le_param_1.fit(DF.param_1) \n",
    "    \n",
    "    le_param123 = LabelEncoder() \n",
    "    le_param123.fit(DF.param123) \n",
    "    \n",
    "    le_image_code = LabelEncoder() \n",
    "    le_image_code.fit(DF.image_code) \n",
    "    \n",
    "    le_week = LabelEncoder()\n",
    "    le_week.fit(DF.week)\n",
    "    le_day = LabelEncoder()\n",
    "    le_day.fit(DF.day)\n",
    "    le_wday = LabelEncoder()\n",
    "    le_wday.fit(DF.wday)  \n",
    "    \n",
    "    train = DF[0:ntrain] \n",
    "    del DF \n",
    "    gc.collect() \n",
    "    \n",
    "    train['price'] = np.log1p(train['price']) \n",
    "    train['avg_days_up_user'] = np.log1p(train['avg_days_up_user']) \n",
    "    train['avg_times_up_user'] = np.log1p(train['avg_times_up_user'])\n",
    "    train['n_user_items'] = np.log1p(train['n_user_items']) \n",
    "    train['item_seq_number'] = np.log(train['item_seq_number']) \n",
    "    print(\"Fit to Train Function completed.\")\n",
    "    \n",
    "    return train, tokenizer,le_region, le_city, le_category_name, le_parent_category_name, le_param_1, le_param123, le_image_code, le_week, le_day, le_wday\n",
    "\n",
    "\n",
    "def keras_train_transform(df):\n",
    "    t1 = time.time() \n",
    "    \n",
    "    df['seq_title_description'] = tokenizer.texts_to_sequences(df.title_description.str.lower())\n",
    "    print(\"Transform done for test\") \n",
    "    print(\"Time taken for Sequence Token is \" + str(time.time() - t1))\n",
    "    del train['title_description'] \n",
    "    gc.collect()\n",
    "    \n",
    "    df['region'] = le_region.transform(df['region'])  # エンコードしたもので変換\n",
    "    df['city'] = le_city.transform(df['city']) \n",
    "    df['category_name'] = le_category_name.transform(df['category_name']) \n",
    "    df['parent_category_name'] = le_parent_category_name.transform(df['parent_category_name']) \n",
    "    df['param_1'] = le_param_1.transform(df['param_1']) \n",
    "    df['param123'] = le_param123.transform(df['param123'])\n",
    "    df['day'] = le_day.transform(df['day']) \n",
    "    df['week'] = le_week.transform(df['week']) \n",
    "    df['wday'] = le_wday.transform(df['wday']) \n",
    "    df['image_code'] = le_image_code.transform(df['image_code']) \n",
    "    \n",
    "    print(\"Transform on test function completed.\")\n",
    "    \n",
    "    return df \n",
    "\n",
    "def keras_test_transform(df):\n",
    "    \n",
    "    t1 = time.time() \n",
    "    df['title_description'] = (df['title']+\" \"+df['description']).astype(str) \n",
    "    del df['description'], df['title'] \n",
    "    gc.collect() \n",
    "    \n",
    "    df['seq_title_description']= tokenizer.texts_to_sequences(df.title_description.str.lower()) \n",
    "    print(\"Transform done for test\") \n",
    "    print(\"Time taken for Sequence Token is \" + str(time.time()-t1)) \n",
    "    \n",
    "    del df['title_description'] \n",
    "    gc.collect() \n",
    "    \n",
    "    df['region'] = le_region.transform(df['region']) \n",
    "    df['city'] = le_city.transform(df['city']) \n",
    "    df['cateogyr_name'] = le_category_name.transform(df['category_name']) \n",
    "    df['parent_category_name'] = le_parent_category_name.transform(df['parent_category_name'])\n",
    "    df['param_1'] = le_param_1.transform(df['param_1']) \n",
    "    df['param123'] = le_param123.transform(df['param123'])\n",
    "    df['day'] = le_day.transform(df['day']) \n",
    "    df['week'] = le_week.transform(df['week']) \n",
    "    df['wday'] = le_wday.transform(df['wday']) \n",
    "    df['image_code'] = le_image_code.transform(df['image_code']) \n",
    "    \n",
    "    df['price'] = np.log1p(df['price'])\n",
    "    df['item_seq_number'] = np.log(df['item_seq_number']) \n",
    "    df['avg_days_up_user'] = np.log1p(df['avg_days_up_user'])\n",
    "    df['avg_times_up_user'] = np.log1p(df['avg_times_up_user']) \n",
    "    df['n_user_items'] = np.log1p(df['n_user_items']) \n",
    "    \n",
    "    print(\"Transform on test function completed\") \n",
    "    \n",
    "    return df \n",
    "\n",
    "def get_keras_data(df):\n",
    "    X = {\n",
    "        'seq_title_description' : pad_sequences(df.seq_title_description, \n",
    "                                               max_len=max_seq_title_description_length)\n",
    "        # 同じ長さになるようにする\n",
    "        ,'region': np.array(df.region) \n",
    "        ,'city': np.array(df.city) \n",
    "        ,'category_name': np.array(df.category_name) \n",
    "        ,'parent_category_name': np.array(df.parent_category_name) \n",
    "        ,'param_1': np.array(df.param_1) \n",
    "        ,'param123':np.array(df.param123)\n",
    "        ,'image_code':np.array(df.image_code) \n",
    "        ,'avg_ad_days':np.array(df.avg_days_up_user) \n",
    "        ,'avg_ad_times':np.array(df.avg_times_up_user) \n",
    "        ,'n_user_items': np.array(df.n_user_items) \n",
    "        ,'price':np.array(df[['price']]) \n",
    "        ,'item_seq_number':np.array(df[['item_seq_number']])\n",
    "        ,'day': np.array(df.day)\n",
    "        ,'week': np.array(df.week) \n",
    "        ,'wday': np.array(df.wday)\n",
    "    }\n",
    "    \n",
    "    print(\"Data ready for Vectorization\") \n",
    "    \n",
    "    return X \n",
    "\n",
    "\n",
    "    \n",
    "    \n",
    "    \n",
    "    \n",
    "    \n",
    "    "
   ]
  },
  {
   "cell_type": "code",
   "execution_count": null,
   "metadata": {},
   "outputs": [
    {
     "name": "stdout",
     "output_type": "stream",
     "text": [
      "Filling Missing Values ...\n",
      "Casting data types to type Category....\n",
      "Creating New Feature ...\n",
      "PreProcessing Function completed.\n",
      "columns is  Index(['item_id', 'user_id', 'region', 'city', 'parent_category_name',\n",
      "       'category_name', 'param_1', 'title', 'description', 'price',\n",
      "       'item_seq_number', 'avg_days_up_user', 'avg_times_up_user',\n",
      "       'n_user_items', 'image_code', 'week', 'day', 'wday', 'param123'],\n",
      "      dtype='object')\n",
      "Start Tokenization ...\n",
      "Loading Test for Label Encoding on Train + Test\n",
      "Creating New Feature....\n",
      "(30000, 18)\n",
      "Start Label Encoding process....\n",
      "Fit to Train Function completed.\n"
     ]
    }
   ],
   "source": [
    "dtypes_train = {\n",
    "    \"price\": \"float32\",\n",
    "    \"deal probability\": \"float32\",\n",
    "    \"item_seq_number\": \"uint32\"\n",
    "}\n",
    "\n",
    "use_cols = ['item_id', 'user_id', 'image_top_1', 'region', 'city', \n",
    "            'parent_category_name', 'category_name', 'param_1', \n",
    "            'param_2', 'param_3', 'title', 'description', 'price', \n",
    "            'item_seq_number', 'activation_date', 'deal_probability']\n",
    "train = pd.read_csv(\"train.csv\", parse_dates = ['activation_date'],\n",
    "                   usecols=use_cols, dtype=dtypes_train, nrows=10000) \n",
    "\n",
    "train_features = pd.read_csv(\"aggregated_features.csv\",nrows=10000) \n",
    "train = train.merge(train_features, on =['user_id'], how='left') \n",
    "del train_features \n",
    "gc.collect() \n",
    "\n",
    "train['avg_days_up_user'] = train['avg_days_up_user'].fillna(0).astype('uint32') \n",
    "train['avg_times_up_user'] = train['avg_times_up_user'].fillna(0).astype('uint32')\n",
    "train['n_user_items'] = train['n_user_items'].fillna(0).astype('uint32') \n",
    "\n",
    "y_train = np.array(train['deal_probability']) \n",
    "\n",
    "del train['deal_probability'] \n",
    "gc.collect() \n",
    "\n",
    "max_seq_title_description_length = 100\n",
    "max_words_title_description = 200000\n",
    "\n",
    "train = preprocess_dataset(train)\n",
    "train, tokenizer, le_region, le_city, le_category_name, le_parent_category_name, le_param_1, le_param123, le_image_code,le_week, le_day, le_wday= keras_fit(train)\n",
    "train = keras_train_transform(train)\n",
    "print(\"Tokenization done and TRAIN READY FOR Validation splitting\")\n",
    "\n",
    "# Calculation of max values for Categorical fields \n",
    "\n",
    "max_region = np.max(train.region.max())+2\n",
    "max_city= np.max(train.city.max())+2\n",
    "max_category_name = np.max(train.category_name.max())+2\n",
    "max_parent_category_name = np.max(train.parent_category_name.max())+2\n",
    "max_param_1 = np.max(train.param_1.max())+2\n",
    "max_param123 = np.max(train.param123.max())+2\n",
    "max_week = np.max(train.week.max())+2\n",
    "max_day = np.max(train.day.max())+2\n",
    "max_wday = np.max(train.wday.max())+2\n",
    "max_image_code = np.max(train.image_code.max())+2\n",
    "\n",
    "\n",
    "del train['item_id'], train['user_id']\n",
    "gc.collect()"
   ]
  },
  {
   "cell_type": "code",
   "execution_count": null,
   "metadata": {},
   "outputs": [],
   "source": [
    "EMBEDDING_DIM1 = 300 \n",
    "EMBEDDING_FILE1 = \"cc.ru.300.vec\" \n",
    "def get_coefs(word, *arr): \n",
    "    return word, np.asarray(arr, dtype='float32')\n",
    "embeddings_index1 = dict(get_coefs(*o.rstrip().rsplit(' ')) for o in open(EMBEDDING_FILE1))\n",
    "# rstripは空白だけでなく改行も削除する\n",
    "\n",
    "vocab_size = len(tokenizer.word_index) + 2 \n",
    "EMBEDDING_DIM1 = 300 \n",
    "embedding_matrix1 = np.zeros((vocab_size, EMBEDDING_DIM1)) \n",
    "print(embedding_matrix1.shape) \n",
    "\n",
    "c = 0 \n",
    "c1 = 0\n",
    "w_Y = [] \n",
    "w_No = [] \n",
    "for word, i in tokenizer.word_index.items():\n",
    "    if word in embeddings_index1:\n",
    "        c += 1 \n",
    "        embedding_vector = embeddings_index1[word] \n",
    "        w_Y.append(word)\n",
    "    else:\n",
    "        embedding_vector = None \n",
    "        w_No.append(word) \n",
    "        c1 += 1 \n",
    "    if embedding_vector is not None:\n",
    "        embedding_matrix1[i] = embedding_vector \n",
    "        \n",
    "print(c, c1, len(w_No), len(w_Y)) \n",
    "print(embedding_matrix1.shape) \n",
    "del embeddings_index1 \n",
    "gc.collect() \n",
    "\n",
    "print(\" FAST TEXT DONE\") "
   ]
  },
  {
   "cell_type": "code",
   "execution_count": null,
   "metadata": {
    "collapsed": true
   },
   "outputs": [],
   "source": [
    "print(vocab_size)"
   ]
  },
  {
   "cell_type": "code",
   "execution_count": null,
   "metadata": {
    "collapsed": true
   },
   "outputs": [],
   "source": [
    "def RNN_model():\n",
    "    # Inputs \n",
    "    seq_title_description = Input(shape=[100], name='seq_title_description') \n",
    "    region = Input(shape=[1], name='region') \n",
    "    city = Input(shape=[1], name='city') \n",
    "    category_name = Input(shape=[1], name='category_name') \n",
    "    parent_category_name = Input(shape=[1], name='parent_category_name')\n",
    "    param_1 = Input(shape=[1], name='param_1') \n",
    "    param123 = Input(shape=[1], name='param123')\n",
    "    image_code = Input(shape=[1], name='image_code')\n",
    "    price = Input(shape=[1], name='price') \n",
    "    item_seq_number = Input(shape=[1], name='item_seq_number')\n",
    "    avg_ad_days = Input(shape=[1], name='avg_ad_days')\n",
    "    avg_ad_times = Input(shape=[1], name='avg_ad_times')\n",
    "    n_user_items = Input(shape=[1], name='n_user_items') \n",
    "    week = Input(shape=[1], name='week') \n",
    "    day = Input(shape=[1], name='day') \n",
    "    wday = Input(shape=[1], name='wday') \n",
    "    \n",
    "    # Embeddings layers \n",
    "    emb_seq_title_description = Embedding(vocab_size, EMBEDDING_DIM1, \n",
    "                                         weights = [embedding_matrix1], trainable=False)(seq_title_description)\n",
    "    emb_region = Embedding(vocab_size, 10)(region) \n",
    "    emb_city = Embedding(vocab_size, 10)(city) \n",
    "    emb_category_name = Embedding(vocab_size, 10)(parent_category_name) \n",
    "    emb_param_1 = Embedding(vocab_size, 10)(param_1) \n",
    "    emb_param123 = Embedding(vocab_size, 10)(param123) \n",
    "    emb_image_code = Embedding(vocab_size, 10)(image_code) \n",
    "    emb_day = Embedding(vocab_size, 10)(day)\n",
    "    emb_week = Embedding(vocab_size, 10)(week) \n",
    "    emb_wday = Embedding(vocab_size, 10)(wday)\n",
    "    \n",
    "    rnn_layer1 = GRU(50)(emb_seq_title_description) \n",
    "    \n",
    "    main_l = concatenate([\n",
    "        rnn_layer1 \n",
    "        ,Flatten()(emb_region)\n",
    "        ,Flatten()(emb_city) \n",
    "        ,Flatten()(emb_cateogry)\n",
    "        ,Flatten()(emb_param_1) \n",
    "        ,Flatten()(emb_param123)\n",
    "        ,Flatten()(emb_image_code)\n",
    "        ,Flatten()(emb_week)\n",
    "        ,Flatten()(emb_day)\n",
    "        ,Flatten()(emb_wday)\n",
    "        ,avg_ad_days\n",
    "        ,avg_ad_times\n",
    "        ,n_user_items\n",
    "        ,price\n",
    "        ,item_seq_number\n",
    "    ])\n",
    "    \n",
    "    main_l = Dropout(0.1)(Dense(512,activation='relu')(main_l))\n",
    "    main_l = Dropout(0.1)(Dense(512,activation='relu')(main_l)) \n",
    "    \n",
    "    output = Dense(1, activation='sigmoid')(main_l) \n",
    "    #model \n",
    "    model = Model([seq_title_description, region, city, category_name,\n",
    "                  parent_category_name, param_1, param123, price, item_seq_number, image_code, avg_ad_days,\n",
    "                  avg_ad_times, n_user_items,week, day, \n",
    "                   wday], output) \n",
    "    model.compile(optimizer='adam', \n",
    "                 loss=root_mean_squared_error, \n",
    "                 metrics=[root_mean_squared_error])\n",
    "    return model \n",
    "\n",
    "def rmse(y, y_pred):\n",
    "    Rsum = np.sum((y-y_pred)**2)\n",
    "    n = y.shape[0] \n",
    "    RMSE = np.sqrt(Rsum/n) \n",
    "    return RMSE \n",
    "\n",
    "def eval_model(model, X_test1):\n",
    "    val_preds = model.predict(X_test1) \n",
    "    y_pred = val_preds[:, 0] \n",
    "    \n",
    "    y_true = np.array(y_test1) \n",
    "    \n",
    "    yt = pd.DataFrame(y_true) \n",
    "    yp = pd.DataFrame(y_pred) \n",
    "    print(yt.isnull().any()) \n",
    "    print(yp.isnull().any()) \n",
    "    \n",
    "    v_rmse = rmse(y_true, y_pred) \n",
    "    print(\"RMSE for VALIDATION SET: \"+str(v_rmse)) \n",
    "    return v_rmse \n",
    "\n",
    "exp_decay = lambda init,fin, steps: (init/fin)**(1/(steps-1)) -1 "
   ]
  },
  {
   "cell_type": "code",
   "execution_count": null,
   "metadata": {},
   "outputs": [],
   "source": [
    "def predictions(model):\n",
    "    import time\n",
    "    t1 = time.time() \n",
    "    def load_test():\n",
    "        for df in pd.read_csv(\"test.csv\", chunksize=10000):\n",
    "            yield df \n",
    "            \n",
    "    item_ids = np.array([], dtype=np.int32) \n",
    "    preds = np.array([], dtype=np.float32) \n",
    "    \n",
    "    i  = 0\n",
    "    \n",
    "    for df in load_test():\n",
    "        i += 1 \n",
    "        print(df.dtypes) \n",
    "        item_id = df['item_id']\n",
    "        print(\"Chunk number is \" + str(i)) \n",
    "        \n",
    "        test = preprocess_dataset(df) \n",
    "        \n",
    "        train_features = pd.read_csv(\"aggregated_features.csv\") \n",
    "        test= test.merge(train_features, on=['user_od'], how='left') \n",
    "        del train_features \n",
    "        gc.collect() \n",
    "        \n",
    "        print(test.dtypes) \n",
    "        test['avg_days_up_user'] = test['avg_days_up_user'].fillna(0).astype('uint32')\n",
    "        test['avg_times_up_user'] = test['avg_times_up_user'].fillna(0).astype('uint32') \n",
    "        test['n_user_items'] = test['n_user_items'].fillna(0).astype('uint32') \n",
    "        test = keras_test_transform(test) \n",
    "        del df \n",
    "        gc.collect() \n",
    "        \n",
    "        print(test.dtypes) \n",
    "        X_test = get_keras_data(test) \n",
    "        del test \n",
    "        gc.collect() \n",
    "        \n",
    "        Batch_Size = 512\n",
    "        preds1 = modelRNN.predict(X_test, batch_size=Batch_Size, verbose=1)\n",
    "        print(\"preds1.shape is \",preds1.shape) \n",
    "        del X_test\n",
    "        gc.collect() \n",
    "        print(\"RNN prediction is done\") \n",
    "        \n",
    "        preds1 = preds1.reshape(-1, 1) \n",
    "        preds1 = np.clip(preds1, 0, 1) \n",
    "        print(preds1.shape) \n",
    "        item_ids = np.append(item_ids, item_id) \n",
    "        print(\"item_ids.shape is \", item_ids.shape)\n",
    "        preds = np.append(preds, preds1) \n",
    "        print(\"preds.shape is \", preds.shape)\n",
    "        \n",
    "    print(\"All chunks done\") \n",
    "    t2 = time.time() \n",
    "    print(\"Total time for Parallel Batch Prediction is \" + str(t2-t1))\n",
    "    return preds \n"
   ]
  },
  {
   "cell_type": "code",
   "execution_count": null,
   "metadata": {
    "collapsed": true
   },
   "outputs": [],
   "source": [
    "'item_id', 'user_id', 'region', 'city', 'parent_category_name',\n",
    "       'category_name', 'param_1', 'title', 'description', 'price',\n",
    "       'item_seq_number', 'avg_days_up_user', 'avg_times_up_user',\n",
    "       'n_user_items', 'image_code', 'week', 'day', 'wday', 'param123'],\n",
    "      dtype='object"
   ]
  },
  {
   "cell_type": "code",
   "execution_count": null,
   "metadata": {},
   "outputs": [],
   "source": [
    "train1 = np.array(train.values) \n",
    "print(train.columns)\n",
    "del train \n",
    "gc.collect() \n",
    "\n",
    "# このあたりは関数が呼び出されたときに再度検討する\n",
    "def get_data_frame(dataset):\n",
    "    DF = pd.DataFrame() \n",
    "    DF['avg_days_up_user'] = np.array(dataset[:,0])\n",
    "    DF['avg_times_up_user'] = np.array(dataset[:, 1]) \n",
    "    DF['category_name'] = np.array(dataset[:, 2]) \n",
    "    DF['city'] = np.array(dataset[:, 3]) \n",
    "    DF['day'] = np.array(dataset[:, 4])\n",
    "    DF['image_code'] = np.array(dataset[:, 4])\n",
    "    DF['item_seq_number'] = np.array(dataset[:, 5]) \n",
    "    DF['n_user_items'] = np.array(dataset[:, 6]) \n",
    "    DF['param123'] = np.array(dataset[:, 7]) \n",
    "    DF['param_1'] = np.array(dataset[:, 8]) \n",
    "    DF['parent_category_name'] = np.array(dataset[:, 9]) \n",
    "    DF['price'] = np.array(dataset[:, 10]) \n",
    "    DF['region'] = np.array(dataset[:, 11]) \n",
    "    DF['wday']  = np.array(dataset[:, 12]) \n",
    "    DF['week'] = np.array(dataset[:, 13]) \n",
    "    DF['seq_title_description'] = np.array(dataset[:, 14]) \n",
    "    \n",
    "    return DF "
   ]
  },
  {
   "cell_type": "code",
   "execution_count": null,
   "metadata": {},
   "outputs": [],
   "source": [
    "from sklearn.model_selection import train_test_split \n",
    "from sklearn.model_selection import KFold \n",
    "import time \n",
    "skf = KFold(n_splits=3)\n",
    "Kfold_preds_final = [] \n",
    "k = 0 \n",
    "RMSE = 0 \n",
    "\n",
    "for train_idx, test_idx in skf.split(train1, y_train):\n",
    "    \n",
    "    print(\"Number of Folds.. \" + str(k+1)) \n",
    "    \n",
    "    epochs = 1 \n",
    "    batch_size = 512 \n",
    "    steps = (int(train1.shape[0]/batch_size))*epochs \n",
    "    lr_init, lr_fin = 0.009, 0.0045 \n",
    "    lr_decay = exp_decay(lr_init, lr_fin, steps) \n",
    "    modelRNN = RNN_model() \n",
    "    K.set_value(modelRNN.optimizer.lr, lr_init) \n",
    "    K.set_value(modelRNN.optimizer.decay, lr_decay) \n",
    "    \n",
    "    # K Fold Split \n",
    "    \n",
    "    X_train1, X_test1 = train1[train_idx], train1[test_idx] \n",
    "    print(X_train1.shape, X_test1.shape) \n",
    "    y_train1, y_test1 = y_train[train_idx], y_train[test_idx] \n",
    "    print(y_train1.shape, y_test1.shape) \n",
    "    gc.collect();\n",
    "    \n",
    "    print(type(X_train1)) \n",
    "    print(X_train1.shape) \n",
    "    print(type(X_train1[:, 12])) \n",
    "    \n",
    "    X_train_final = get_data_frame(X_train1) \n",
    "    X_test_final = get_data_frame(X_test1) \n",
    "    \n",
    "    del X_train1, X_test1 \n",
    "    gc.collect() \n",
    "    \n",
    "    print(type(X_train1)) \n",
    "    print(X_train1.shape) \n",
    "    print(type(X_train1[:, 12])) \n",
    "    \n",
    "    X_trian_f = get_data_frame(X_train_final) \n",
    "    X_test_f = get_keras_data(X_test_final) \n",
    "    \n",
    "    del X_train_final, X_test_final \n",
    "    gc.collect() \n",
    "    \n",
    "    for i in range(3):\n",
    "        hist = modelRNN.fit(X_train_f, y_train1, batch_size=batch_size+(batch_size*(2*i)),\n",
    "                           epochs=epochs, validation_data=(X_test_f, y_test1), verbose=1) \n",
    "        \n",
    "        del X_train_f \n",
    "        gc.collect() \n",
    "        \n",
    "        v_rmse = eval_model(modelRNN, X_test_f) \n",
    "        RMSE.apend(v_rmse) \n",
    "        \n",
    "        del X_test_f \n",
    "        del y_train1, y_test1 \n",
    "        gc.collect() \n",
    "        \n",
    "        preds = predictions(modelRNN ) \n",
    "        del modelRNN \n",
    "        gc.collect() \n",
    "        \n",
    "        print(\"Predictions done for Fold \" + str(k)) \n",
    "        print(preds.shape) \n",
    "        Kfold_preds_final.append(preds) \n",
    "        del preds \n",
    "        gc.collect() \n",
    "        print(\"Number of folds completed...\" + str(len(Kfold_preds_final))) \n",
    "        print(Kfold_preds_final[k][0:10]) \n",
    "        \n",
    "    print(\"All Folds completed\" + str(k+1)) \n",
    "    print(\"RNN FOLD MODEL Done\") \n",
    "    "
   ]
  },
  {
   "cell_type": "code",
   "execution_count": null,
   "metadata": {
    "collapsed": true
   },
   "outputs": [],
   "source": []
  }
 ],
 "metadata": {
  "kernelspec": {
   "display_name": "Python 3",
   "language": "python",
   "name": "python3"
  },
  "language_info": {
   "codemirror_mode": {
    "name": "ipython",
    "version": 3
   },
   "file_extension": ".py",
   "mimetype": "text/x-python",
   "name": "python",
   "nbconvert_exporter": "python",
   "pygments_lexer": "ipython3",
   "version": "3.5.3"
  }
 },
 "nbformat": 4,
 "nbformat_minor": 2
}
